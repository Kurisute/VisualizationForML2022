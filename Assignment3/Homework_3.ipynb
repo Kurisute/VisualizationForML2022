{
  "cells": [
    {
      "cell_type": "markdown",
      "metadata": {
        "id": "7n4paNrE8PIw"
      },
      "source": [
        "# Homework 3\n",
        "\n",
        "Author : Yichen Xie\n",
        "\n",
        "NetID: yx2606\n",
        "\n",
        "In this homework you will use `sklearn` to analyze and visualize model performance. You will be required to use the _new_ `sklearn` implementations, as well as write some of your own functions. You can see `sklearn`'s new visualization API documentation [here](https://scikit-learn.org/stable/visualizations.html#visualizations).\n",
        "\n",
        "*Do not change* the code block below. It generates the data and trains the model you use."
      ]
    },
    {
      "cell_type": "code",
      "execution_count": 20,
      "metadata": {
        "id": "CHnM71W-8MAL"
      },
      "outputs": [],
      "source": [
        "# Constants. DO NOT CHANGE.\n",
        "RANDOM_STATE = 2022\n",
        "\n",
        "from sklearn.datasets import make_classification\n",
        "from sklearn.ensemble import RandomForestClassifier\n",
        "from sklearn.model_selection import train_test_split\n",
        "\n",
        "X, y = make_classification(\n",
        "    n_samples=1_000, n_features=20, n_informative=2, n_redundant=10, random_state=RANDOM_STATE\n",
        ")  # Generate data\n",
        "\n",
        "X_train, X_test, y_train, y_test = train_test_split(\n",
        "    X, y, test_size=0.8, random_state=RANDOM_STATE\n",
        ")  # Split into test and train set\n",
        "\n",
        "clf = RandomForestClassifier(random_state=RANDOM_STATE)  # Random Forest model\n",
        "clf.fit(X_train, y_train)\n",
        "\n",
        "y_preds_proba = clf.predict_proba(X_test)  # Predicted probabilities\n",
        "y_preds_label = clf.predict(X_test)  # Predicted label"
      ]
    },
    {
      "cell_type": "code",
      "execution_count": 21,
      "metadata": {
        "colab": {
          "base_uri": "https://localhost:8080/"
        },
        "id": "7p-1yFoB9WM2",
        "outputId": "c2e7bfab-a189-4c76-9211-15f8dfa674b4"
      },
      "outputs": [
        {
          "data": {
            "text/plain": [
              "array([[0.99, 0.01],\n",
              "       [0.91, 0.09],\n",
              "       [0.1 , 0.9 ],\n",
              "       ...,\n",
              "       [0.99, 0.01],\n",
              "       [0.09, 0.91],\n",
              "       [0.26, 0.74]])"
            ]
          },
          "execution_count": 21,
          "metadata": {},
          "output_type": "execute_result"
        }
      ],
      "source": [
        "# Probability predictions. First column is for class \"0\", second is for class \"1\"\n",
        "y_preds_proba"
      ]
    },
    {
      "cell_type": "code",
      "execution_count": 22,
      "metadata": {
        "colab": {
          "base_uri": "https://localhost:8080/"
        },
        "id": "kcSs4EWk9bok",
        "outputId": "9afe680d-32db-43f2-b183-7b80689d8270"
      },
      "outputs": [
        {
          "name": "stdout",
          "output_type": "stream",
          "text": [
            "800\n"
          ]
        }
      ],
      "source": [
        "# Label predictions using a standard 0.5 threshold\n",
        "print(len(y_preds_label))"
      ]
    },
    {
      "cell_type": "markdown",
      "metadata": {
        "id": "WKbR0QAQ8uR_"
      },
      "source": [
        "# (1) Plot Confusion Matrix\n",
        "\n",
        "Plot the confusion matrix for the test set."
      ]
    },
    {
      "cell_type": "code",
      "execution_count": 23,
      "metadata": {
        "id": "rYsI6YnsuFuB"
      },
      "outputs": [],
      "source": [
        "from sklearn.metrics import plot_roc_curve, roc_auc_score\n",
        "from sklearn.metrics import plot_confusion_matrix\n",
        "from sklearn.calibration import calibration_curve\n",
        "import matplotlib.pyplot as plt"
      ]
    },
    {
      "cell_type": "code",
      "execution_count": 24,
      "metadata": {
        "colab": {
          "base_uri": "https://localhost:8080/",
          "height": 351
        },
        "id": "Q62hd8le8tXI",
        "outputId": "38e763a1-7139-4384-a479-e5ae640abd37"
      },
      "outputs": [
        {
          "data": {
            "text/plain": [
              "<sklearn.metrics._plot.confusion_matrix.ConfusionMatrixDisplay at 0x1b52b74fef0>"
            ]
          },
          "execution_count": 24,
          "metadata": {},
          "output_type": "execute_result"
        },
        {
          "data": {
            "image/png": "[encoded data removed]",
            "text/plain": [
              "<Figure size 432x288 with 2 Axes>"
            ]
          },
          "metadata": {
            "needs_background": "light"
          },
          "output_type": "display_data"
        }
      ],
      "source": [
        "# Plot the confusion matrix for the test set.\n",
        "plot_confusion_matrix(clf,X_test,y_test)"
      ]
    },
    {
      "cell_type": "markdown",
      "metadata": {
        "id": "DZUnU72i9fTZ"
      },
      "source": [
        "# (2) Classification Report\n",
        "\n",
        "Calculate the precision, recall, accuracy and f1-score for the test set."
      ]
    },
    {
      "cell_type": "code",
      "execution_count": 25,
      "metadata": {
        "colab": {
          "base_uri": "https://localhost:8080/"
        },
        "id": "PQWHzNkh9n-W",
        "outputId": "e5dab9bc-dab3-4198-91a9-4c131d84aad0"
      },
      "outputs": [
        {
          "name": "stdout",
          "output_type": "stream",
          "text": [
            "TP 340 TN 336 FP 62 FN 62\n",
            "Precision: 0.845771144278607 Recall: 0.845771144278607 Accuracy: 0.845 f1_score: 0.845771144278607\n",
            "              precision    recall  f1-score   support\n",
            "\n",
            "           0       0.84      0.84      0.84       398\n",
            "           1       0.85      0.85      0.85       402\n",
            "\n",
            "    accuracy                           0.84       800\n",
            "   macro avg       0.84      0.84      0.84       800\n",
            "weighted avg       0.84      0.84      0.84       800\n",
            "\n"
          ]
        }
      ],
      "source": [
        "# Calculate the precision, recall, accuracy and f1-score for the test set.\n",
        "from sklearn.metrics import classification_report\n",
        "TP = 0\n",
        "TN = 0\n",
        "FP = 0\n",
        "FN = 0\n",
        "\n",
        "for i in range(len(y_preds_label)):\n",
        "    if y_test[i] == 1 and y_preds_label[i] == 1:\n",
        "        TP += 1\n",
        "    if y_test[i] == 0 and y_preds_label[i] == 0:\n",
        "        TN += 1\n",
        "    if y_test[i] == 0 and y_preds_label[i] == 1:\n",
        "        FP += 1\n",
        "    if y_test[i] == 1 and y_preds_label[i] == 0:\n",
        "        FN += 1\n",
        "\n",
        "print(\"TP\",TP,\"TN\",TN,\"FP\",FP,\"FN\",FN)\n",
        "\n",
        "Precison = TP / (TP + FP)\n",
        "Recall = TP / (TP + FN)\n",
        "Accuracy = (TP + TN) / (TP + FP + TN + FN)\n",
        "f1_score = 2*TP / (2 * TP + FP + FN)\n",
        "\n",
        "print(\"Precision:\",Precison,\"Recall:\",Recall,\"Accuracy:\",Accuracy,\"f1_score:\",f1_score)\n",
        "print(classification_report(y_test, y_preds_label))"
      ]
    },
    {
      "cell_type": "markdown",
      "metadata": {
        "id": "17J59kEm9txe"
      },
      "source": [
        "# (3) Plot ROC Curve and Report AUC\n",
        "\n",
        "Plot the ROC curve and report the AUC for the test set."
      ]
    },
    {
      "cell_type": "code",
      "execution_count": 26,
      "metadata": {
        "colab": {
          "base_uri": "https://localhost:8080/",
          "height": 351
        },
        "id": "OZsMh08w9wks",
        "outputId": "b029893e-33d2-47f3-ada4-238e5a1a3703"
      },
      "outputs": [
        {
          "data": {
            "text/plain": [
              "<sklearn.metrics._plot.roc_curve.RocCurveDisplay at 0x1b52b6e7518>"
            ]
          },
          "execution_count": 26,
          "metadata": {},
          "output_type": "execute_result"
        },
        {
          "data": {
            "image/png": "[encoded data removed]",
            "text/plain": [
              "<Figure size 432x288 with 1 Axes>"
            ]
          },
          "metadata": {
            "needs_background": "light"
          },
          "output_type": "display_data"
        }
      ],
      "source": [
        "# Plot the ROC curve and report the AUC for the test set.\n",
        "plot_roc_curve(clf,X_test,y_test)"
      ]
    },
    {
      "cell_type": "markdown",
      "metadata": {
        "id": "XMmOVICruFuC"
      },
      "source": [
        "The AUC is 0.92"
      ]
    },
    {
      "cell_type": "markdown",
      "metadata": {
        "id": "cR_YGx2w935P"
      },
      "source": [
        "# (4) Expected Calibration Error (ECE), Maximum Calibration Error (MCE), Plot Reliability Diagram\n",
        "\n",
        "Using `calibration_curve`, which you can access via `from sklearn.calibration import calibration_curve`, calculate:\n",
        "\n",
        "ECE when `calibration_curve(..., method=\"quantile\")` -- this produces bins of equal sample size\n",
        "MCE when `calibration_curve(..., method=\"uniform\")` -- this produces bins of equal width\n",
        "\n",
        "Then, plot the reliability diagram for `method=\"quantile\"` and `method=\"uniform\"`. Comment on which one you believe is \"better\" to report (i.e., what are the pros and cons of using \"quantile\" compared to \"uniform\")\n",
        "\n"
      ]
    },
    {
      "cell_type": "code",
      "execution_count": 27,
      "metadata": {
        "id": "sNwfHXYW-icX"
      },
      "outputs": [],
      "source": [
        "from sklearn.calibration import calibration_curve\n",
        "# Calculated ECE for calibration_curve(..., strategy=\"quantile\")\n",
        "prob_true_q, prob_pred_q = calibration_curve(y_test,y_preds_proba[:,1],n_bins=5,strategy=\"quantile\")\n",
        "# Calculate MCE for calibration_curve(..., strategy=\"uniform\")\n",
        "prob_true_u, prob_pred_u = calibration_curve(y_test,y_preds_proba[:,1],n_bins=5,strategy=\"uniform\")\n",
        "# Plot reliability diagrams for each"
      ]
    },
    {
      "cell_type": "code",
      "execution_count": 28,
      "metadata": {
        "colab": {
          "base_uri": "https://localhost:8080/",
          "height": 355
        },
        "id": "U_AYOQ8auFuD",
        "outputId": "82aeb07d-1375-488d-8495-4d84a3b8f162"
      },
      "outputs": [
        {
          "ename": "NameError",
          "evalue": "name 'check_matplotlib_support' is not defined",
          "output_type": "error",
          "traceback": [
            "\u001b[1;31m---------------------------------------------------------------------------\u001b[0m",
            "\u001b[1;31mNameError\u001b[0m                                 Traceback (most recent call last)",
            "\u001b[1;32m<ipython-input-28-51ee12b32e41>\u001b[0m in \u001b[0;36m<module>\u001b[1;34m\u001b[0m\n\u001b[0;32m      8\u001b[0m \u001b[0max_calibration_curve\u001b[0m \u001b[1;33m=\u001b[0m \u001b[0mfig\u001b[0m\u001b[1;33m.\u001b[0m\u001b[0madd_subplot\u001b[0m\u001b[1;33m(\u001b[0m\u001b[0mgs\u001b[0m\u001b[1;33m[\u001b[0m\u001b[1;33m:\u001b[0m\u001b[1;36m2\u001b[0m\u001b[1;33m,\u001b[0m \u001b[1;33m:\u001b[0m\u001b[1;36m2\u001b[0m\u001b[1;33m]\u001b[0m\u001b[1;33m)\u001b[0m\u001b[1;33m\u001b[0m\u001b[1;33m\u001b[0m\u001b[0m\n\u001b[0;32m      9\u001b[0m \u001b[1;33m\u001b[0m\u001b[0m\n\u001b[1;32m---> 10\u001b[1;33m \u001b[0mCalibrationDisplay\u001b[0m\u001b[1;33m.\u001b[0m\u001b[0mfrom_estimator\u001b[0m\u001b[1;33m(\u001b[0m\u001b[0mclf\u001b[0m\u001b[1;33m,\u001b[0m \u001b[0mX_test\u001b[0m\u001b[1;33m,\u001b[0m \u001b[0my_test\u001b[0m\u001b[1;33m,\u001b[0m \u001b[0mn_bins\u001b[0m\u001b[1;33m=\u001b[0m\u001b[1;36m50\u001b[0m\u001b[1;33m,\u001b[0m \u001b[0mname\u001b[0m\u001b[1;33m=\u001b[0m\u001b[1;34m\"Random Forest (Quantile)\"\u001b[0m\u001b[1;33m,\u001b[0m\u001b[0mstrategy\u001b[0m\u001b[1;33m=\u001b[0m\u001b[1;34m\"quantile\"\u001b[0m\u001b[1;33m,\u001b[0m\u001b[0max\u001b[0m\u001b[1;33m=\u001b[0m\u001b[0max_calibration_curve\u001b[0m\u001b[1;33m)\u001b[0m\u001b[1;33m\u001b[0m\u001b[1;33m\u001b[0m\u001b[0m\n\u001b[0m\u001b[0;32m     11\u001b[0m \u001b[1;33m\u001b[0m\u001b[0m\n\u001b[0;32m     12\u001b[0m \u001b[0max_calibration_curve\u001b[0m\u001b[1;33m.\u001b[0m\u001b[0mgrid\u001b[0m\u001b[1;33m(\u001b[0m\u001b[1;33m)\u001b[0m\u001b[1;33m\u001b[0m\u001b[1;33m\u001b[0m\u001b[0m\n",
            "\u001b[1;32mP:\\Coding\\Miniconda\\envs\\vis\\lib\\site-packages\\sklearn\\calibration.py\u001b[0m in \u001b[0;36mfrom_estimator\u001b[1;34m(cls, estimator, X, y, n_bins, strategy, pos_label, name, ref_line, ax, **kwargs)\u001b[0m\n\u001b[0;32m   1099\u001b[0m         \"\"\"\n\u001b[0;32m   1100\u001b[0m         \u001b[0mmethod_name\u001b[0m \u001b[1;33m=\u001b[0m \u001b[1;34mf\"{cls.__name__}.from_estimator\"\u001b[0m\u001b[1;33m\u001b[0m\u001b[1;33m\u001b[0m\u001b[0m\n\u001b[1;32m-> 1101\u001b[1;33m         \u001b[0mcheck_matplotlib_support\u001b[0m\u001b[1;33m(\u001b[0m\u001b[0mmethod_name\u001b[0m\u001b[1;33m)\u001b[0m\u001b[1;33m\u001b[0m\u001b[1;33m\u001b[0m\u001b[0m\n\u001b[0m\u001b[0;32m   1102\u001b[0m \u001b[1;33m\u001b[0m\u001b[0m\n\u001b[0;32m   1103\u001b[0m         \u001b[1;32mif\u001b[0m \u001b[1;32mnot\u001b[0m \u001b[0mis_classifier\u001b[0m\u001b[1;33m(\u001b[0m\u001b[0mestimator\u001b[0m\u001b[1;33m)\u001b[0m\u001b[1;33m:\u001b[0m\u001b[1;33m\u001b[0m\u001b[1;33m\u001b[0m\u001b[0m\n",
            "\u001b[1;31mNameError\u001b[0m: name 'check_matplotlib_support' is not defined"
          ]
        },
        {
          "data": {
            "image/png": "[encoded data removed]",
            "text/plain": [
              "<Figure size 720x720 with 1 Axes>"
            ]
          },
          "metadata": {
            "needs_background": "light"
          },
          "output_type": "display_data"
        }
      ],
      "source": [
        "from sklearn.calibration import CalibrationDisplay\n",
        "from matplotlib.gridspec import GridSpec\n",
        "\n",
        "fig = plt.figure(figsize=(10, 10))\n",
        "gs = GridSpec(4, 2)\n",
        "colors = plt.cm.get_cmap(\"Dark2\")\n",
        "\n",
        "ax_calibration_curve = fig.add_subplot(gs[:2, :2])\n",
        "\n",
        "CalibrationDisplay.from_estimator(clf, X_test, y_test, n_bins=50, name=\"Random Forest (Quantile)\",strategy=\"quantile\",ax=ax_calibration_curve)\n",
        "\n",
        "ax_calibration_curve.grid()\n",
        "ax_calibration_curve.set_title(\"Calibration plots\")"
      ]
    },
    {
      "cell_type": "code",
      "execution_count": null,
      "metadata": {
        "colab": {
          "base_uri": "https://localhost:8080/",
          "height": 355
        },
        "id": "81aZef3RxR_z",
        "outputId": "4f702c47-f669-4c83-8183-c09e10d9a033"
      },
      "outputs": [
        {
          "data": {
            "text/plain": [
              "Text(0.5, 1.0, 'Calibration plots')"
            ]
          },
          "execution_count": 120,
          "metadata": {},
          "output_type": "execute_result"
        },
        {
          "data": {
            "image/png": "[encoded data removed]",
            "text/plain": [
              "<Figure size 720x720 with 1 Axes>"
            ]
          },
          "metadata": {
            "needs_background": "light"
          },
          "output_type": "display_data"
        }
      ],
      "source": [
        "from sklearn.calibration import CalibrationDisplay\n",
        "from matplotlib.gridspec import GridSpec\n",
        "\n",
        "fig = plt.figure(figsize=(10, 10))\n",
        "gs = GridSpec(4, 2)\n",
        "colors = plt.cm.get_cmap(\"Dark2\")\n",
        "\n",
        "ax_calibration_curve = fig.add_subplot(gs[:2, :2])\n",
        "\n",
        "CalibrationDisplay.from_estimator(clf, X_test, y_test, n_bins=50, name=\"Random Forest (Uniform)\",strategy=\"uniform\",ax=ax_calibration_curve)\n",
        "\n",
        "ax_calibration_curve.grid()\n",
        "ax_calibration_curve.set_title(\"Calibration plots\")"
      ]
    },
    {
      "cell_type": "markdown",
      "metadata": {
        "id": "HmiGbYjcxyil"
      },
      "source": [
        "I think the \"uniform\" one is better to report.\n",
        "\n",
        "As we can see, the \"quantile\" method have more bins concentratingon the two edges of the curve, which means the predictions mainly relies on the \"simple\" samples. But in the \"uniform\" calibration curve, we can see fluctuations more obviously, thus we can find that the random forest have unreliable predictions when it faced with those data which are hard to classify and only take a small part in the dataset. And we can see the ramdom forest is more likely to give positive predictions to the difficult data. So if we use a more complex dataset, the random forest may not work so well as this simple condition."
      ]
    },
    {
      "cell_type": "markdown",
      "metadata": {
        "id": "cLucwaZL-rKn"
      },
      "source": [
        "# (5) Brier Score and Log Loss\n",
        "\n",
        "Write your own Brier Score and Log Loss functions for the data from above. Ensure that the outputs equal those from `sklearn`. You can access `sklearn`'s implementation using \n",
        "\n",
        "```\n",
        "from sklearn.metrics import brier_score_loss, log_loss\n",
        "```\n",
        "\n",
        "DO NOT simply write a wrapper for `sklearn`'s implementation. Write your own, test it, and show the results of the test."
      ]
    },
    {
      "cell_type": "code",
      "execution_count": null,
      "metadata": {
        "colab": {
          "base_uri": "https://localhost:8080/"
        },
        "id": "NXGwEO05A1ts",
        "outputId": "7ab96e27-b103-436d-fea1-095177bdb5bb"
      },
      "outputs": [
        {
          "name": "stdout",
          "output_type": "stream",
          "text": [
            "brier_score_loss: 0.1130645\n",
            "log_loss: 0.521981147990606\n"
          ]
        }
      ],
      "source": [
        "from sklearn.metrics import brier_score_loss, log_loss\n",
        "print(\"brier_score_loss:\",brier_score_loss(y_test,y_preds_proba[:,1]))\n",
        "print(\"log_loss:\",log_loss(y_test,y_preds_proba[:,1]))"
      ]
    },
    {
      "cell_type": "code",
      "execution_count": null,
      "metadata": {
        "colab": {
          "base_uri": "https://localhost:8080/"
        },
        "id": "ajFjaXZ5-s2c",
        "outputId": "45667897-dda9-4819-9445-c9fbe66c61c9"
      },
      "outputs": [
        {
          "name": "stdout",
          "output_type": "stream",
          "text": [
            "custom_brier_score: 0.11306450000000019\n",
            "custom_log_loss: 0.5219811479906065\n"
          ]
        }
      ],
      "source": [
        "import numpy as np\n",
        "def custom_brier_score(y_true,y_predict):\n",
        "  N = len(y_true)\n",
        "  sum = 0\n",
        "  for i in range(N):\n",
        "    sum += (y_true[i] - y_predict[i])**2\n",
        "  return sum/N\n",
        "\n",
        "def custom_log_loss(y_true,y_predict):\n",
        "  N = len(y_true)\n",
        "  sum = 0.0\n",
        "  eps = 1e-15\n",
        "  for i in range(N):\n",
        "    pred = np.clip(y_predict[i], eps, 1 - eps)\n",
        "    sum += ( y_true[i] * np.log(pred) + np.subtract(1,y_true[i]) * np.log(np.subtract(1,pred)) )\n",
        "  return -sum/N\n",
        "\n",
        "print(\"custom_brier_score:\",custom_brier_score(y_test,y_preds_proba[:,1]))\n",
        "print(\"custom_log_loss:\",custom_log_loss(y_test,y_preds_proba[:,1]))\n"
      ]
    }
  ],
  "metadata": {
    "colab": {
      "collapsed_sections": [],
      "name": "Homework_3_CS-GY-9223.ipynb",
      "provenance": []
    },
    "kernelspec": {
      "display_name": "Python 3",
      "name": "python3"
    },
    "language_info": {
      "codemirror_mode": {
        "name": "ipython",
        "version": 3
      },
      "file_extension": ".py",
      "mimetype": "text/x-python",
      "name": "python",
      "nbconvert_exporter": "python",
      "pygments_lexer": "ipython3",
      "version": "3.6.13"
    }
  },
  "nbformat": 4,
  "nbformat_minor": 0
}
