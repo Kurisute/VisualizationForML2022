{
  "nbformat": 4,
  "nbformat_minor": 0,
  "metadata": {
    "colab": {
      "name": "Copy of hw5.ipynb",
      "provenance": [],
      "collapsed_sections": []
    },
    "kernelspec": {
      "name": "python3",
      "display_name": "Python 3"
    },
    "language_info": {
      "name": "python"
    }
  },
  "cells": [
    {
      "cell_type": "markdown",
      "source": [
        "# Homework 5\n",
        "### Author: Yichen Xie\n",
        "### NetID: yx2606\n",
        "The main goal of this homework is to use what we have learned from white-box models to understand a black-box model's behavior.\n",
        "\n",
        "We are still going to use the loan application dataset as in the practice 2. Find it here: https://drive.google.com/file/d/186LjbAZoMat91ByH7aJGJ8PnfO2LqKlu/view?usp=sharing\n",
        "\n",
        "Don't forget to specify the filepath on your own Google Drive below.\n",
        "\n",
        "\n",
        "You will need to finish the following subtasks:\n",
        "- (1) Train a surrogate tree-based model to understand the model prediction behaviors of the provided SVM model. \n",
        "- (2) Answer a few questions based on the interpretation of the surrogate model.\n"
      ],
      "metadata": {
        "id": "wpnU-UygZRYY"
      }
    },
    {
      "cell_type": "code",
      "execution_count": null,
      "metadata": {
        "id": "y6btABhJLZGw"
      },
      "outputs": [],
      "source": [
        "import numpy as np\n",
        "import pandas as pd\n",
        "from sklearn import svm\n"
      ]
    },
    {
      "cell_type": "markdown",
      "source": [
        "In the column of \"Outcome\",\n",
        "- 0 represents \"will not default\",\n",
        "- 1 represents \"will default\"."
      ],
      "metadata": {
        "id": "ncURRgVdhNaO"
      }
    },
    {
      "cell_type": "code",
      "source": [
        "from google.colab import drive\n",
        "drive.mount('/content/drive')"
      ],
      "metadata": {
        "colab": {
          "base_uri": "https://localhost:8080/"
        },
        "id": "jPQKRtn_MtCN",
        "outputId": "f8113027-986c-464d-f32c-472f2ab01121"
      },
      "execution_count": null,
      "outputs": [
        {
          "output_type": "stream",
          "name": "stdout",
          "text": [
            "Mounted at /content/drive\n"
          ]
        }
      ]
    },
    {
      "cell_type": "code",
      "source": [
        "df = pd.read_csv(filepath_or_buffer=\"/content/drive/MyDrive/Colab Notebooks/cleaned_fico_data.csv\",)\n",
        "df"
      ],
      "metadata": {
        "colab": {
          "base_uri": "https://localhost:8080/",
          "height": 502
        },
        "id": "YfDMCmauTsQ3",
        "outputId": "a76a190d-4c56-4d2b-a6f7-c17113561623"
      },
      "execution_count": null,
      "outputs": [
        {
          "output_type": "execute_result",
          "data": {
            "text/html": [
              "\n",
              "  <div id=\"df-d456d19b-4a6f-40d1-8cb0-97c1c633e56b\">\n",
              "    <div class=\"colab-df-container\">\n",
              "      <div>\n",
              "<style scoped>\n",
              "    .dataframe tbody tr th:only-of-type {\n",
              "        vertical-align: middle;\n",
              "    }\n",
              "\n",
              "    .dataframe tbody tr th {\n",
              "        vertical-align: top;\n",
              "    }\n",
              "\n",
              "    .dataframe thead th {\n",
              "        text-align: right;\n",
              "    }\n",
              "</style>\n",
              "<table border=\"1\" class=\"dataframe\">\n",
              "  <thead>\n",
              "    <tr style=\"text-align: right;\">\n",
              "      <th></th>\n",
              "      <th>Outcome</th>\n",
              "      <th>External Risk Estimate</th>\n",
              "      <th>Months Since Oldest Trade Open</th>\n",
              "      <th>Months Since Last Trade Open</th>\n",
              "      <th>Average Months in File</th>\n",
              "      <th>Satisfactory Trades</th>\n",
              "      <th>Trades 60+ Ever</th>\n",
              "      <th>Trades 90+ Ever</th>\n",
              "      <th>Bills Paid on Time</th>\n",
              "      <th>Months Since Last Delq.</th>\n",
              "      <th>...</th>\n",
              "      <th>% Installment Trades</th>\n",
              "      <th>Months Since Most Recent Inq</th>\n",
              "      <th>Inq Last 6 Months</th>\n",
              "      <th>Inq Last 6 Months exl. 7 days</th>\n",
              "      <th>Unpaid Balance</th>\n",
              "      <th>Installment Burden</th>\n",
              "      <th>Revolving Trades w/ Balance</th>\n",
              "      <th>Installment Trades w/ Balance</th>\n",
              "      <th>Bank Trades w/ High Utilization Ratio</th>\n",
              "      <th>% Trades w/ Balance</th>\n",
              "    </tr>\n",
              "  </thead>\n",
              "  <tbody>\n",
              "    <tr>\n",
              "      <th>0</th>\n",
              "      <td>0</td>\n",
              "      <td>55</td>\n",
              "      <td>144</td>\n",
              "      <td>4</td>\n",
              "      <td>84</td>\n",
              "      <td>20</td>\n",
              "      <td>3</td>\n",
              "      <td>0</td>\n",
              "      <td>83</td>\n",
              "      <td>2</td>\n",
              "      <td>...</td>\n",
              "      <td>43</td>\n",
              "      <td>0</td>\n",
              "      <td>0</td>\n",
              "      <td>0</td>\n",
              "      <td>33</td>\n",
              "      <td>77</td>\n",
              "      <td>8</td>\n",
              "      <td>1</td>\n",
              "      <td>1</td>\n",
              "      <td>69</td>\n",
              "    </tr>\n",
              "    <tr>\n",
              "      <th>1</th>\n",
              "      <td>0</td>\n",
              "      <td>61</td>\n",
              "      <td>58</td>\n",
              "      <td>15</td>\n",
              "      <td>41</td>\n",
              "      <td>2</td>\n",
              "      <td>4</td>\n",
              "      <td>4</td>\n",
              "      <td>100</td>\n",
              "      <td>150</td>\n",
              "      <td>...</td>\n",
              "      <td>67</td>\n",
              "      <td>0</td>\n",
              "      <td>0</td>\n",
              "      <td>0</td>\n",
              "      <td>0</td>\n",
              "      <td>57</td>\n",
              "      <td>0</td>\n",
              "      <td>2</td>\n",
              "      <td>0</td>\n",
              "      <td>0</td>\n",
              "    </tr>\n",
              "    <tr>\n",
              "      <th>2</th>\n",
              "      <td>0</td>\n",
              "      <td>67</td>\n",
              "      <td>66</td>\n",
              "      <td>5</td>\n",
              "      <td>24</td>\n",
              "      <td>9</td>\n",
              "      <td>0</td>\n",
              "      <td>0</td>\n",
              "      <td>100</td>\n",
              "      <td>150</td>\n",
              "      <td>...</td>\n",
              "      <td>44</td>\n",
              "      <td>0</td>\n",
              "      <td>4</td>\n",
              "      <td>4</td>\n",
              "      <td>53</td>\n",
              "      <td>66</td>\n",
              "      <td>4</td>\n",
              "      <td>2</td>\n",
              "      <td>1</td>\n",
              "      <td>86</td>\n",
              "    </tr>\n",
              "    <tr>\n",
              "      <th>3</th>\n",
              "      <td>0</td>\n",
              "      <td>66</td>\n",
              "      <td>169</td>\n",
              "      <td>1</td>\n",
              "      <td>73</td>\n",
              "      <td>28</td>\n",
              "      <td>1</td>\n",
              "      <td>1</td>\n",
              "      <td>93</td>\n",
              "      <td>76</td>\n",
              "      <td>...</td>\n",
              "      <td>57</td>\n",
              "      <td>0</td>\n",
              "      <td>5</td>\n",
              "      <td>4</td>\n",
              "      <td>72</td>\n",
              "      <td>83</td>\n",
              "      <td>6</td>\n",
              "      <td>4</td>\n",
              "      <td>3</td>\n",
              "      <td>91</td>\n",
              "    </tr>\n",
              "    <tr>\n",
              "      <th>4</th>\n",
              "      <td>0</td>\n",
              "      <td>81</td>\n",
              "      <td>333</td>\n",
              "      <td>27</td>\n",
              "      <td>132</td>\n",
              "      <td>12</td>\n",
              "      <td>0</td>\n",
              "      <td>0</td>\n",
              "      <td>100</td>\n",
              "      <td>150</td>\n",
              "      <td>...</td>\n",
              "      <td>25</td>\n",
              "      <td>0</td>\n",
              "      <td>1</td>\n",
              "      <td>1</td>\n",
              "      <td>51</td>\n",
              "      <td>89</td>\n",
              "      <td>3</td>\n",
              "      <td>1</td>\n",
              "      <td>0</td>\n",
              "      <td>80</td>\n",
              "    </tr>\n",
              "    <tr>\n",
              "      <th>...</th>\n",
              "      <td>...</td>\n",
              "      <td>...</td>\n",
              "      <td>...</td>\n",
              "      <td>...</td>\n",
              "      <td>...</td>\n",
              "      <td>...</td>\n",
              "      <td>...</td>\n",
              "      <td>...</td>\n",
              "      <td>...</td>\n",
              "      <td>...</td>\n",
              "      <td>...</td>\n",
              "      <td>...</td>\n",
              "      <td>...</td>\n",
              "      <td>...</td>\n",
              "      <td>...</td>\n",
              "      <td>...</td>\n",
              "      <td>...</td>\n",
              "      <td>...</td>\n",
              "      <td>...</td>\n",
              "      <td>...</td>\n",
              "      <td>...</td>\n",
              "    </tr>\n",
              "    <tr>\n",
              "      <th>9866</th>\n",
              "      <td>1</td>\n",
              "      <td>73</td>\n",
              "      <td>131</td>\n",
              "      <td>5</td>\n",
              "      <td>57</td>\n",
              "      <td>21</td>\n",
              "      <td>0</td>\n",
              "      <td>0</td>\n",
              "      <td>95</td>\n",
              "      <td>80</td>\n",
              "      <td>...</td>\n",
              "      <td>19</td>\n",
              "      <td>7</td>\n",
              "      <td>0</td>\n",
              "      <td>0</td>\n",
              "      <td>26</td>\n",
              "      <td>81</td>\n",
              "      <td>5</td>\n",
              "      <td>2</td>\n",
              "      <td>0</td>\n",
              "      <td>100</td>\n",
              "    </tr>\n",
              "    <tr>\n",
              "      <th>9867</th>\n",
              "      <td>0</td>\n",
              "      <td>65</td>\n",
              "      <td>147</td>\n",
              "      <td>39</td>\n",
              "      <td>68</td>\n",
              "      <td>11</td>\n",
              "      <td>0</td>\n",
              "      <td>0</td>\n",
              "      <td>92</td>\n",
              "      <td>28</td>\n",
              "      <td>...</td>\n",
              "      <td>42</td>\n",
              "      <td>1</td>\n",
              "      <td>1</td>\n",
              "      <td>1</td>\n",
              "      <td>86</td>\n",
              "      <td>53</td>\n",
              "      <td>2</td>\n",
              "      <td>2</td>\n",
              "      <td>1</td>\n",
              "      <td>80</td>\n",
              "    </tr>\n",
              "    <tr>\n",
              "      <th>9868</th>\n",
              "      <td>0</td>\n",
              "      <td>74</td>\n",
              "      <td>129</td>\n",
              "      <td>6</td>\n",
              "      <td>64</td>\n",
              "      <td>18</td>\n",
              "      <td>1</td>\n",
              "      <td>1</td>\n",
              "      <td>100</td>\n",
              "      <td>150</td>\n",
              "      <td>...</td>\n",
              "      <td>33</td>\n",
              "      <td>3</td>\n",
              "      <td>4</td>\n",
              "      <td>4</td>\n",
              "      <td>6</td>\n",
              "      <td>53</td>\n",
              "      <td>5</td>\n",
              "      <td>3</td>\n",
              "      <td>0</td>\n",
              "      <td>56</td>\n",
              "    </tr>\n",
              "    <tr>\n",
              "      <th>9869</th>\n",
              "      <td>0</td>\n",
              "      <td>72</td>\n",
              "      <td>234</td>\n",
              "      <td>12</td>\n",
              "      <td>113</td>\n",
              "      <td>42</td>\n",
              "      <td>2</td>\n",
              "      <td>2</td>\n",
              "      <td>96</td>\n",
              "      <td>35</td>\n",
              "      <td>...</td>\n",
              "      <td>20</td>\n",
              "      <td>6</td>\n",
              "      <td>0</td>\n",
              "      <td>0</td>\n",
              "      <td>19</td>\n",
              "      <td>47</td>\n",
              "      <td>4</td>\n",
              "      <td>1</td>\n",
              "      <td>0</td>\n",
              "      <td>38</td>\n",
              "    </tr>\n",
              "    <tr>\n",
              "      <th>9870</th>\n",
              "      <td>0</td>\n",
              "      <td>66</td>\n",
              "      <td>28</td>\n",
              "      <td>1</td>\n",
              "      <td>17</td>\n",
              "      <td>4</td>\n",
              "      <td>0</td>\n",
              "      <td>0</td>\n",
              "      <td>100</td>\n",
              "      <td>150</td>\n",
              "      <td>...</td>\n",
              "      <td>60</td>\n",
              "      <td>3</td>\n",
              "      <td>3</td>\n",
              "      <td>2</td>\n",
              "      <td>67</td>\n",
              "      <td>85</td>\n",
              "      <td>2</td>\n",
              "      <td>1</td>\n",
              "      <td>0</td>\n",
              "      <td>100</td>\n",
              "    </tr>\n",
              "  </tbody>\n",
              "</table>\n",
              "<p>9871 rows × 24 columns</p>\n",
              "</div>\n",
              "      <button class=\"colab-df-convert\" onclick=\"convertToInteractive('df-d456d19b-4a6f-40d1-8cb0-97c1c633e56b')\"\n",
              "              title=\"Convert this dataframe to an interactive table.\"\n",
              "              style=\"display:none;\">\n",
              "        \n",
              "  <svg xmlns=\"http://www.w3.org/2000/svg\" height=\"24px\"viewBox=\"0 0 24 24\"\n",
              "       width=\"24px\">\n",
              "    <path d=\"M0 0h24v24H0V0z\" fill=\"none\"/>\n",
              "    <path d=\"M18.56 5.44l.94 2.06.94-2.06 2.06-.94-2.06-.94-.94-2.06-.94 2.06-2.06.94zm-11 1L8.5 8.5l.94-2.06 2.06-.94-2.06-.94L8.5 2.5l-.94 2.06-2.06.94zm10 10l.94 2.06.94-2.06 2.06-.94-2.06-.94-.94-2.06-.94 2.06-2.06.94z\"/><path d=\"M17.41 7.96l-1.37-1.37c-.4-.4-.92-.59-1.43-.59-.52 0-1.04.2-1.43.59L10.3 9.45l-7.72 7.72c-.78.78-.78 2.05 0 2.83L4 21.41c.39.39.9.59 1.41.59.51 0 1.02-.2 1.41-.59l7.78-7.78 2.81-2.81c.8-.78.8-2.07 0-2.86zM5.41 20L4 18.59l7.72-7.72 1.47 1.35L5.41 20z\"/>\n",
              "  </svg>\n",
              "      </button>\n",
              "      \n",
              "  <style>\n",
              "    .colab-df-container {\n",
              "      display:flex;\n",
              "      flex-wrap:wrap;\n",
              "      gap: 12px;\n",
              "    }\n",
              "\n",
              "    .colab-df-convert {\n",
              "      background-color: #E8F0FE;\n",
              "      border: none;\n",
              "      border-radius: 50%;\n",
              "      cursor: pointer;\n",
              "      display: none;\n",
              "      fill: #1967D2;\n",
              "      height: 32px;\n",
              "      padding: 0 0 0 0;\n",
              "      width: 32px;\n",
              "    }\n",
              "\n",
              "    .colab-df-convert:hover {\n",
              "      background-color: #E2EBFA;\n",
              "      box-shadow: 0px 1px 2px rgba(60, 64, 67, 0.3), 0px 1px 3px 1px rgba(60, 64, 67, 0.15);\n",
              "      fill: #174EA6;\n",
              "    }\n",
              "\n",
              "    [theme=dark] .colab-df-convert {\n",
              "      background-color: #3B4455;\n",
              "      fill: #D2E3FC;\n",
              "    }\n",
              "\n",
              "    [theme=dark] .colab-df-convert:hover {\n",
              "      background-color: #434B5C;\n",
              "      box-shadow: 0px 1px 3px 1px rgba(0, 0, 0, 0.15);\n",
              "      filter: drop-shadow(0px 1px 2px rgba(0, 0, 0, 0.3));\n",
              "      fill: #FFFFFF;\n",
              "    }\n",
              "  </style>\n",
              "\n",
              "      <script>\n",
              "        const buttonEl =\n",
              "          document.querySelector('#df-d456d19b-4a6f-40d1-8cb0-97c1c633e56b button.colab-df-convert');\n",
              "        buttonEl.style.display =\n",
              "          google.colab.kernel.accessAllowed ? 'block' : 'none';\n",
              "\n",
              "        async function convertToInteractive(key) {\n",
              "          const element = document.querySelector('#df-d456d19b-4a6f-40d1-8cb0-97c1c633e56b');\n",
              "          const dataTable =\n",
              "            await google.colab.kernel.invokeFunction('convertToInteractive',\n",
              "                                                     [key], {});\n",
              "          if (!dataTable) return;\n",
              "\n",
              "          const docLinkHtml = 'Like what you see? Visit the ' +\n",
              "            '<a target=\"_blank\" href=https://colab.research.google.com/notebooks/data_table.ipynb>data table notebook</a>'\n",
              "            + ' to learn more about interactive tables.';\n",
              "          element.innerHTML = '';\n",
              "          dataTable['output_type'] = 'display_data';\n",
              "          await google.colab.output.renderOutput(dataTable, element);\n",
              "          const docLink = document.createElement('div');\n",
              "          docLink.innerHTML = docLinkHtml;\n",
              "          element.appendChild(docLink);\n",
              "        }\n",
              "      </script>\n",
              "    </div>\n",
              "  </div>\n",
              "  "
            ],
            "text/plain": [
              "      Outcome  External Risk Estimate  Months Since Oldest Trade Open  \\\n",
              "0           0                      55                             144   \n",
              "1           0                      61                              58   \n",
              "2           0                      67                              66   \n",
              "3           0                      66                             169   \n",
              "4           0                      81                             333   \n",
              "...       ...                     ...                             ...   \n",
              "9866        1                      73                             131   \n",
              "9867        0                      65                             147   \n",
              "9868        0                      74                             129   \n",
              "9869        0                      72                             234   \n",
              "9870        0                      66                              28   \n",
              "\n",
              "      Months Since Last Trade Open  Average Months in File  \\\n",
              "0                                4                      84   \n",
              "1                               15                      41   \n",
              "2                                5                      24   \n",
              "3                                1                      73   \n",
              "4                               27                     132   \n",
              "...                            ...                     ...   \n",
              "9866                             5                      57   \n",
              "9867                            39                      68   \n",
              "9868                             6                      64   \n",
              "9869                            12                     113   \n",
              "9870                             1                      17   \n",
              "\n",
              "      Satisfactory Trades  Trades 60+ Ever  Trades 90+ Ever  \\\n",
              "0                      20                3                0   \n",
              "1                       2                4                4   \n",
              "2                       9                0                0   \n",
              "3                      28                1                1   \n",
              "4                      12                0                0   \n",
              "...                   ...              ...              ...   \n",
              "9866                   21                0                0   \n",
              "9867                   11                0                0   \n",
              "9868                   18                1                1   \n",
              "9869                   42                2                2   \n",
              "9870                    4                0                0   \n",
              "\n",
              "      Bills Paid on Time  Months Since Last Delq.  ...  % Installment Trades  \\\n",
              "0                     83                        2  ...                    43   \n",
              "1                    100                      150  ...                    67   \n",
              "2                    100                      150  ...                    44   \n",
              "3                     93                       76  ...                    57   \n",
              "4                    100                      150  ...                    25   \n",
              "...                  ...                      ...  ...                   ...   \n",
              "9866                  95                       80  ...                    19   \n",
              "9867                  92                       28  ...                    42   \n",
              "9868                 100                      150  ...                    33   \n",
              "9869                  96                       35  ...                    20   \n",
              "9870                 100                      150  ...                    60   \n",
              "\n",
              "      Months Since Most Recent Inq  Inq Last 6 Months  \\\n",
              "0                                0                  0   \n",
              "1                                0                  0   \n",
              "2                                0                  4   \n",
              "3                                0                  5   \n",
              "4                                0                  1   \n",
              "...                            ...                ...   \n",
              "9866                             7                  0   \n",
              "9867                             1                  1   \n",
              "9868                             3                  4   \n",
              "9869                             6                  0   \n",
              "9870                             3                  3   \n",
              "\n",
              "      Inq Last 6 Months exl. 7 days  Unpaid Balance  Installment Burden  \\\n",
              "0                                 0              33                  77   \n",
              "1                                 0               0                  57   \n",
              "2                                 4              53                  66   \n",
              "3                                 4              72                  83   \n",
              "4                                 1              51                  89   \n",
              "...                             ...             ...                 ...   \n",
              "9866                              0              26                  81   \n",
              "9867                              1              86                  53   \n",
              "9868                              4               6                  53   \n",
              "9869                              0              19                  47   \n",
              "9870                              2              67                  85   \n",
              "\n",
              "      Revolving Trades w/ Balance  Installment Trades w/ Balance  \\\n",
              "0                               8                              1   \n",
              "1                               0                              2   \n",
              "2                               4                              2   \n",
              "3                               6                              4   \n",
              "4                               3                              1   \n",
              "...                           ...                            ...   \n",
              "9866                            5                              2   \n",
              "9867                            2                              2   \n",
              "9868                            5                              3   \n",
              "9869                            4                              1   \n",
              "9870                            2                              1   \n",
              "\n",
              "      Bank Trades w/ High Utilization Ratio  % Trades w/ Balance  \n",
              "0                                         1                   69  \n",
              "1                                         0                    0  \n",
              "2                                         1                   86  \n",
              "3                                         3                   91  \n",
              "4                                         0                   80  \n",
              "...                                     ...                  ...  \n",
              "9866                                      0                  100  \n",
              "9867                                      1                   80  \n",
              "9868                                      0                   56  \n",
              "9869                                      0                   38  \n",
              "9870                                      0                  100  \n",
              "\n",
              "[9871 rows x 24 columns]"
            ]
          },
          "metadata": {},
          "execution_count": 3
        }
      ]
    },
    {
      "cell_type": "code",
      "source": [
        "feature_labels = df.columns[1:]\n",
        "feature_labels"
      ],
      "metadata": {
        "colab": {
          "base_uri": "https://localhost:8080/"
        },
        "id": "pWBif3zn7RDf",
        "outputId": "05119762-38cc-4ba6-90d6-03d47c6ad2be"
      },
      "execution_count": null,
      "outputs": [
        {
          "output_type": "execute_result",
          "data": {
            "text/plain": [
              "Index(['External Risk Estimate', 'Months Since Oldest Trade Open',\n",
              "       'Months Since Last Trade Open', 'Average Months in File',\n",
              "       'Satisfactory Trades', 'Trades 60+ Ever', 'Trades 90+ Ever',\n",
              "       'Bills Paid on Time', 'Months Since Last Delq.', 'Max Delq. Last 12M',\n",
              "       'Max Delq. Ever', 'Total Trades', 'Trades Open Last 12M',\n",
              "       '% Installment Trades', 'Months Since Most Recent Inq',\n",
              "       'Inq Last 6 Months', 'Inq Last 6 Months exl. 7 days', 'Unpaid Balance',\n",
              "       'Installment Burden', 'Revolving Trades w/ Balance',\n",
              "       'Installment Trades w/ Balance',\n",
              "       'Bank Trades w/ High Utilization Ratio', '% Trades w/ Balance'],\n",
              "      dtype='object')"
            ]
          },
          "metadata": {},
          "execution_count": 27
        }
      ]
    },
    {
      "cell_type": "code",
      "source": [
        "X = df.drop(columns=['Outcome']).values\n",
        "y = df['Outcome'].values"
      ],
      "metadata": {
        "id": "EQYI4a42T3E9"
      },
      "execution_count": null,
      "outputs": []
    },
    {
      "cell_type": "code",
      "source": [
        "from sklearn.model_selection import train_test_split\n",
        "\n",
        "X_train, X_test, y_train, y_test = train_test_split(X, y, test_size=0.2, random_state=42)"
      ],
      "metadata": {
        "id": "T5TSqFWCVRER"
      },
      "execution_count": null,
      "outputs": []
    },
    {
      "cell_type": "code",
      "source": [
        "'''train a SVM model'''\n",
        "clf = svm.SVC(kernel=\"linear\", C=0.001, probability=True)\n",
        "clf.fit(X_train, y_train)"
      ],
      "metadata": {
        "id": "SBDq6aCzVhVw",
        "colab": {
          "base_uri": "https://localhost:8080/"
        },
        "outputId": "09731438-58a4-4380-d9d5-74aa01406dc0"
      },
      "execution_count": null,
      "outputs": [
        {
          "output_type": "execute_result",
          "data": {
            "text/plain": [
              "SVC(C=0.001, kernel='linear', probability=True)"
            ]
          },
          "metadata": {},
          "execution_count": 6
        }
      ]
    },
    {
      "cell_type": "code",
      "source": [
        "print(\"training accuracy:\", clf.score(X_train, y_train))\n",
        "print(\"testing accuracy:\", clf.score(X_test, y_test))\n"
      ],
      "metadata": {
        "colab": {
          "base_uri": "https://localhost:8080/"
        },
        "id": "XhTg72xZfyu_",
        "outputId": "152ff835-48f3-42c4-d8c8-c77577e4be17"
      },
      "execution_count": null,
      "outputs": [
        {
          "output_type": "stream",
          "name": "stdout",
          "text": [
            "training accuracy: 0.7310030395136778\n",
            "testing accuracy: 0.7281012658227848\n"
          ]
        }
      ]
    },
    {
      "cell_type": "markdown",
      "source": [
        "## Please train a surrogate model to approximate the original model's behavior on the **test set**?\n",
        "\n",
        "How can we do that?\n",
        "\n",
        "We can use the original model input (`X_test`), and the model output (but not the labels/ground truth) to train an interpretable surrogate model, for example, a decision tree, or a rule set.\n",
        "\n",
        "\n",
        "Please include your surrogate model training code below. You can add or remove any code blocks."
      ],
      "metadata": {
        "id": "Y-ezhT9bgLE0"
      }
    },
    {
      "cell_type": "code",
      "source": [
        "from sklearn.utils.extmath import randomized_range_finder\n",
        "'''train a decision tree model'''\n",
        "from sklearn import tree\n",
        "\n",
        "y_pred = clf.predict(X_test)\n",
        "tclf = tree.DecisionTreeClassifier(max_depth=5,max_leaf_nodes=16,max_features=None)\n",
        "tclf = tclf.fit(X_test,y_pred)"
      ],
      "metadata": {
        "id": "NErKoqKLgJrh"
      },
      "execution_count": null,
      "outputs": []
    },
    {
      "cell_type": "code",
      "source": [
        "tclf.feature_importances_"
      ],
      "metadata": {
        "colab": {
          "base_uri": "https://localhost:8080/"
        },
        "id": "5QgYBR6P91cn",
        "outputId": "30d9bf1b-9231-4590-fdc8-cdc926bb57b4"
      },
      "execution_count": null,
      "outputs": [
        {
          "output_type": "execute_result",
          "data": {
            "text/plain": [
              "array([0.83411271, 0.        , 0.        , 0.04959098, 0.08159444,\n",
              "       0.        , 0.0061632 , 0.        , 0.        , 0.        ,\n",
              "       0.        , 0.        , 0.        , 0.00517709, 0.        ,\n",
              "       0.        , 0.        , 0.01262986, 0.        , 0.        ,\n",
              "       0.        , 0.        , 0.01073172])"
            ]
          },
          "metadata": {},
          "execution_count": 66
        }
      ]
    },
    {
      "cell_type": "code",
      "source": [
        "print(\"tree accuracy:\", tclf.score(X_test, y_test))"
      ],
      "metadata": {
        "id": "YPzuyi4Jh_Nf",
        "colab": {
          "base_uri": "https://localhost:8080/"
        },
        "outputId": "e656c4da-bc4b-414f-a18e-9c23d37d8bfe"
      },
      "execution_count": null,
      "outputs": [
        {
          "output_type": "stream",
          "name": "stdout",
          "text": [
            "tree accuracy: 0.7281012658227848\n"
          ]
        }
      ]
    },
    {
      "cell_type": "code",
      "source": [
        "'''visualize the tree'''\n",
        "import graphviz\n",
        "\n",
        "target_names = ['not default', 'default']\n",
        "dot_data = tree.export_graphviz(tclf, out_file=None, \n",
        "                                feature_names=df.columns[1:],\n",
        "                                class_names=target_names,\n",
        "                                filled=True, rounded=True, \n",
        "                                special_characters=True)\n",
        "graph = graphviz.Source(dot_data)  \n",
        "graph "
      ],
      "metadata": {
        "id": "6joY8lNqh_4n",
        "colab": {
          "base_uri": "https://localhost:8080/",
          "height": 916
        },
        "outputId": "e80bac49-7671-477d-cbf6-461711cfef19"
      },
      "execution_count": null,
      "outputs": [
        {
          "output_type": "execute_result",
          "data": {
            "text/plain": [
              "<graphviz.files.Source at 0x7f721220ed10>"
            ],
            "image/svg+xml": "<?xml version=\"1.0\" encoding=\"UTF-8\" standalone=\"no\"?>\n<!DOCTYPE svg PUBLIC \"-//W3C//DTD SVG 1.1//EN\"\n \"http://www.w3.org/Graphics/SVG/1.1/DTD/svg11.dtd\">\n<!-- Generated by graphviz version 2.40.1 (20161225.0304)\n -->\n<!-- Title: Tree Pages: 1 -->\n<svg width=\"1555pt\" height=\"671pt\"\n viewBox=\"0.00 0.00 1554.50 671.00\" xmlns=\"http://www.w3.org/2000/svg\" xmlns:xlink=\"http://www.w3.org/1999/xlink\">\n<g id=\"graph0\" class=\"graph\" transform=\"scale(1 1) rotate(0) translate(4 667)\">\n<title>Tree</title>\n<polygon fill=\"#ffffff\" stroke=\"transparent\" points=\"-4,4 -4,-667 1550.5,-667 1550.5,4 -4,4\"/>\n<!-- 0 -->\n<g id=\"node1\" class=\"node\">\n<title>0</title>\n<path fill=\"#fdf5ef\" stroke=\"#000000\" d=\"M876.5,-663C876.5,-663 694.5,-663 694.5,-663 688.5,-663 682.5,-657 682.5,-651 682.5,-651 682.5,-592 682.5,-592 682.5,-586 688.5,-580 694.5,-580 694.5,-580 876.5,-580 876.5,-580 882.5,-580 888.5,-586 888.5,-592 888.5,-592 888.5,-651 888.5,-651 888.5,-657 882.5,-663 876.5,-663\"/>\n<text text-anchor=\"start\" x=\"690.5\" y=\"-647.8\" font-family=\"Helvetica,sans-Serif\" font-size=\"14.00\" fill=\"#000000\">External Risk Estimate ≤ 71.5</text>\n<text text-anchor=\"start\" x=\"747.5\" y=\"-632.8\" font-family=\"Helvetica,sans-Serif\" font-size=\"14.00\" fill=\"#000000\">gini = 0.499</text>\n<text text-anchor=\"start\" x=\"733.5\" y=\"-617.8\" font-family=\"Helvetica,sans-Serif\" font-size=\"14.00\" fill=\"#000000\">samples = 1975</text>\n<text text-anchor=\"start\" x=\"723.5\" y=\"-602.8\" font-family=\"Helvetica,sans-Serif\" font-size=\"14.00\" fill=\"#000000\">value = [1029, 946]</text>\n<text text-anchor=\"start\" x=\"726.5\" y=\"-587.8\" font-family=\"Helvetica,sans-Serif\" font-size=\"14.00\" fill=\"#000000\">class = not default</text>\n</g>\n<!-- 1 -->\n<g id=\"node2\" class=\"node\">\n<title>1</title>\n<path fill=\"#e78c4b\" stroke=\"#000000\" d=\"M661,-544C661,-544 500,-544 500,-544 494,-544 488,-538 488,-532 488,-532 488,-473 488,-473 488,-467 494,-461 500,-461 500,-461 661,-461 661,-461 667,-461 673,-467 673,-473 673,-473 673,-532 673,-532 673,-538 667,-544 661,-544\"/>\n<text text-anchor=\"start\" x=\"496\" y=\"-528.8\" font-family=\"Helvetica,sans-Serif\" font-size=\"14.00\" fill=\"#000000\">Satisfactory Trades ≤ 34.5</text>\n<text text-anchor=\"start\" x=\"547\" y=\"-513.8\" font-family=\"Helvetica,sans-Serif\" font-size=\"14.00\" fill=\"#000000\">gini = 0.15</text>\n<text text-anchor=\"start\" x=\"532.5\" y=\"-498.8\" font-family=\"Helvetica,sans-Serif\" font-size=\"14.00\" fill=\"#000000\">samples = 943</text>\n<text text-anchor=\"start\" x=\"526.5\" y=\"-483.8\" font-family=\"Helvetica,sans-Serif\" font-size=\"14.00\" fill=\"#000000\">value = [866, 77]</text>\n<text text-anchor=\"start\" x=\"521.5\" y=\"-468.8\" font-family=\"Helvetica,sans-Serif\" font-size=\"14.00\" fill=\"#000000\">class = not default</text>\n</g>\n<!-- 0&#45;&gt;1 -->\n<g id=\"edge1\" class=\"edge\">\n<title>0&#45;&gt;1</title>\n<path fill=\"none\" stroke=\"#000000\" d=\"M713.8009,-579.8796C696.7912,-570.0056 678.5339,-559.4075 661.1552,-549.3193\"/>\n<polygon fill=\"#000000\" stroke=\"#000000\" points=\"662.5642,-546.0903 652.1586,-544.0969 659.0499,-552.1443 662.5642,-546.0903\"/>\n<text text-anchor=\"middle\" x=\"658.5723\" y=\"-564.5602\" font-family=\"Helvetica,sans-Serif\" font-size=\"14.00\" fill=\"#000000\">True</text>\n</g>\n<!-- 2 -->\n<g id=\"node17\" class=\"node\">\n<title>2</title>\n<path fill=\"#5eafea\" stroke=\"#000000\" d=\"M1112.5,-544C1112.5,-544 930.5,-544 930.5,-544 924.5,-544 918.5,-538 918.5,-532 918.5,-532 918.5,-473 918.5,-473 918.5,-467 924.5,-461 930.5,-461 930.5,-461 1112.5,-461 1112.5,-461 1118.5,-461 1124.5,-467 1124.5,-473 1124.5,-473 1124.5,-532 1124.5,-532 1124.5,-538 1118.5,-544 1112.5,-544\"/>\n<text text-anchor=\"start\" x=\"926.5\" y=\"-528.8\" font-family=\"Helvetica,sans-Serif\" font-size=\"14.00\" fill=\"#000000\">External Risk Estimate ≤ 76.5</text>\n<text text-anchor=\"start\" x=\"983.5\" y=\"-513.8\" font-family=\"Helvetica,sans-Serif\" font-size=\"14.00\" fill=\"#000000\">gini = 0.266</text>\n<text text-anchor=\"start\" x=\"969.5\" y=\"-498.8\" font-family=\"Helvetica,sans-Serif\" font-size=\"14.00\" fill=\"#000000\">samples = 1032</text>\n<text text-anchor=\"start\" x=\"963.5\" y=\"-483.8\" font-family=\"Helvetica,sans-Serif\" font-size=\"14.00\" fill=\"#000000\">value = [163, 869]</text>\n<text text-anchor=\"start\" x=\"974.5\" y=\"-468.8\" font-family=\"Helvetica,sans-Serif\" font-size=\"14.00\" fill=\"#000000\">class = default</text>\n</g>\n<!-- 0&#45;&gt;2 -->\n<g id=\"edge16\" class=\"edge\">\n<title>0&#45;&gt;2</title>\n<path fill=\"none\" stroke=\"#000000\" d=\"M868.0413,-579.8796C888.0724,-569.7791 909.6064,-558.9209 930.0232,-548.626\"/>\n<polygon fill=\"#000000\" stroke=\"#000000\" points=\"931.652,-551.7245 939.0053,-544.0969 928.5003,-545.4742 931.652,-551.7245\"/>\n<text text-anchor=\"middle\" x=\"931.1799\" y=\"-564.1406\" font-family=\"Helvetica,sans-Serif\" font-size=\"14.00\" fill=\"#000000\">False</text>\n</g>\n<!-- 7 -->\n<g id=\"node3\" class=\"node\">\n<title>7</title>\n<path fill=\"#e68742\" stroke=\"#000000\" d=\"M377,-425C377,-425 184,-425 184,-425 178,-425 172,-419 172,-413 172,-413 172,-354 172,-354 172,-348 178,-342 184,-342 184,-342 377,-342 377,-342 383,-342 389,-348 389,-354 389,-354 389,-413 389,-413 389,-419 383,-425 377,-425\"/>\n<text text-anchor=\"start\" x=\"180\" y=\"-409.8\" font-family=\"Helvetica,sans-Serif\" font-size=\"14.00\" fill=\"#000000\">Average Months in File ≤ 123.5</text>\n<text text-anchor=\"start\" x=\"242.5\" y=\"-394.8\" font-family=\"Helvetica,sans-Serif\" font-size=\"14.00\" fill=\"#000000\">gini = 0.087</text>\n<text text-anchor=\"start\" x=\"232.5\" y=\"-379.8\" font-family=\"Helvetica,sans-Serif\" font-size=\"14.00\" fill=\"#000000\">samples = 833</text>\n<text text-anchor=\"start\" x=\"226.5\" y=\"-364.8\" font-family=\"Helvetica,sans-Serif\" font-size=\"14.00\" fill=\"#000000\">value = [795, 38]</text>\n<text text-anchor=\"start\" x=\"221.5\" y=\"-349.8\" font-family=\"Helvetica,sans-Serif\" font-size=\"14.00\" fill=\"#000000\">class = not default</text>\n</g>\n<!-- 1&#45;&gt;7 -->\n<g id=\"edge2\" class=\"edge\">\n<title>1&#45;&gt;7</title>\n<path fill=\"none\" stroke=\"#000000\" d=\"M487.6326,-465.6626C458.2359,-454.0019 425.3972,-440.9759 394.6859,-428.7937\"/>\n<polygon fill=\"#000000\" stroke=\"#000000\" points=\"395.8152,-425.4764 385.2292,-425.0426 393.2341,-431.9832 395.8152,-425.4764\"/>\n</g>\n<!-- 8 -->\n<g id=\"node10\" class=\"node\">\n<title>8</title>\n<path fill=\"#f3c6a6\" stroke=\"#000000\" d=\"M671.5,-425C671.5,-425 489.5,-425 489.5,-425 483.5,-425 477.5,-419 477.5,-413 477.5,-413 477.5,-354 477.5,-354 477.5,-348 483.5,-342 489.5,-342 489.5,-342 671.5,-342 671.5,-342 677.5,-342 683.5,-348 683.5,-354 683.5,-354 683.5,-413 683.5,-413 683.5,-419 677.5,-425 671.5,-425\"/>\n<text text-anchor=\"start\" x=\"485.5\" y=\"-409.8\" font-family=\"Helvetica,sans-Serif\" font-size=\"14.00\" fill=\"#000000\">External Risk Estimate ≤ 68.5</text>\n<text text-anchor=\"start\" x=\"542.5\" y=\"-394.8\" font-family=\"Helvetica,sans-Serif\" font-size=\"14.00\" fill=\"#000000\">gini = 0.458</text>\n<text text-anchor=\"start\" x=\"532.5\" y=\"-379.8\" font-family=\"Helvetica,sans-Serif\" font-size=\"14.00\" fill=\"#000000\">samples = 110</text>\n<text text-anchor=\"start\" x=\"530.5\" y=\"-364.8\" font-family=\"Helvetica,sans-Serif\" font-size=\"14.00\" fill=\"#000000\">value = [71, 39]</text>\n<text text-anchor=\"start\" x=\"521.5\" y=\"-349.8\" font-family=\"Helvetica,sans-Serif\" font-size=\"14.00\" fill=\"#000000\">class = not default</text>\n</g>\n<!-- 1&#45;&gt;8 -->\n<g id=\"edge9\" class=\"edge\">\n<title>1&#45;&gt;8</title>\n<path fill=\"none\" stroke=\"#000000\" d=\"M580.5,-460.8796C580.5,-452.6838 580.5,-443.9891 580.5,-435.5013\"/>\n<polygon fill=\"#000000\" stroke=\"#000000\" points=\"584.0001,-435.298 580.5,-425.2981 577.0001,-435.2981 584.0001,-435.298\"/>\n</g>\n<!-- 17 -->\n<g id=\"node4\" class=\"node\">\n<title>17</title>\n<path fill=\"#e6853f\" stroke=\"#000000\" d=\"M168.5,-298.5C168.5,-298.5 58.5,-298.5 58.5,-298.5 52.5,-298.5 46.5,-292.5 46.5,-286.5 46.5,-286.5 46.5,-242.5 46.5,-242.5 46.5,-236.5 52.5,-230.5 58.5,-230.5 58.5,-230.5 168.5,-230.5 168.5,-230.5 174.5,-230.5 180.5,-236.5 180.5,-242.5 180.5,-242.5 180.5,-286.5 180.5,-286.5 180.5,-292.5 174.5,-298.5 168.5,-298.5\"/>\n<text text-anchor=\"start\" x=\"75.5\" y=\"-283.3\" font-family=\"Helvetica,sans-Serif\" font-size=\"14.00\" fill=\"#000000\">gini = 0.061</text>\n<text text-anchor=\"start\" x=\"65.5\" y=\"-268.3\" font-family=\"Helvetica,sans-Serif\" font-size=\"14.00\" fill=\"#000000\">samples = 795</text>\n<text text-anchor=\"start\" x=\"59.5\" y=\"-253.3\" font-family=\"Helvetica,sans-Serif\" font-size=\"14.00\" fill=\"#000000\">value = [770, 25]</text>\n<text text-anchor=\"start\" x=\"54.5\" y=\"-238.3\" font-family=\"Helvetica,sans-Serif\" font-size=\"14.00\" fill=\"#000000\">class = not default</text>\n</g>\n<!-- 7&#45;&gt;17 -->\n<g id=\"edge3\" class=\"edge\">\n<title>7&#45;&gt;17</title>\n<path fill=\"none\" stroke=\"#000000\" d=\"M222.0915,-341.8796C205.036,-329.7263 186.4409,-316.4759 169.5359,-304.4297\"/>\n<polygon fill=\"#000000\" stroke=\"#000000\" points=\"171.562,-301.5759 161.3869,-298.623 167.4998,-307.2766 171.562,-301.5759\"/>\n</g>\n<!-- 18 -->\n<g id=\"node5\" class=\"node\">\n<title>18</title>\n<path fill=\"#f3c3a0\" stroke=\"#000000\" d=\"M350.5,-306C350.5,-306 210.5,-306 210.5,-306 204.5,-306 198.5,-300 198.5,-294 198.5,-294 198.5,-235 198.5,-235 198.5,-229 204.5,-223 210.5,-223 210.5,-223 350.5,-223 350.5,-223 356.5,-223 362.5,-229 362.5,-235 362.5,-235 362.5,-294 362.5,-294 362.5,-300 356.5,-306 350.5,-306\"/>\n<text text-anchor=\"start\" x=\"206.5\" y=\"-290.8\" font-family=\"Helvetica,sans-Serif\" font-size=\"14.00\" fill=\"#000000\">Unpaid Balance ≤ 33.5</text>\n<text text-anchor=\"start\" x=\"247\" y=\"-275.8\" font-family=\"Helvetica,sans-Serif\" font-size=\"14.00\" fill=\"#000000\">gini = 0.45</text>\n<text text-anchor=\"start\" x=\"236.5\" y=\"-260.8\" font-family=\"Helvetica,sans-Serif\" font-size=\"14.00\" fill=\"#000000\">samples = 38</text>\n<text text-anchor=\"start\" x=\"230.5\" y=\"-245.8\" font-family=\"Helvetica,sans-Serif\" font-size=\"14.00\" fill=\"#000000\">value = [25, 13]</text>\n<text text-anchor=\"start\" x=\"221.5\" y=\"-230.8\" font-family=\"Helvetica,sans-Serif\" font-size=\"14.00\" fill=\"#000000\">class = not default</text>\n</g>\n<!-- 7&#45;&gt;18 -->\n<g id=\"edge4\" class=\"edge\">\n<title>7&#45;&gt;18</title>\n<path fill=\"none\" stroke=\"#000000\" d=\"M280.5,-341.8796C280.5,-333.6838 280.5,-324.9891 280.5,-316.5013\"/>\n<polygon fill=\"#000000\" stroke=\"#000000\" points=\"284.0001,-316.298 280.5,-306.2981 277.0001,-316.2981 284.0001,-316.298\"/>\n</g>\n<!-- 21 -->\n<g id=\"node6\" class=\"node\">\n<title>21</title>\n<path fill=\"#88c4ef\" stroke=\"#000000\" d=\"M183,-187C183,-187 12,-187 12,-187 6,-187 0,-181 0,-175 0,-175 0,-116 0,-116 0,-110 6,-104 12,-104 12,-104 183,-104 183,-104 189,-104 195,-110 195,-116 195,-116 195,-175 195,-175 195,-181 189,-187 183,-187\"/>\n<text text-anchor=\"start\" x=\"8\" y=\"-171.8\" font-family=\"Helvetica,sans-Serif\" font-size=\"14.00\" fill=\"#000000\">% Installment Trades ≤ 48.5</text>\n<text text-anchor=\"start\" x=\"59.5\" y=\"-156.8\" font-family=\"Helvetica,sans-Serif\" font-size=\"14.00\" fill=\"#000000\">gini = 0.408</text>\n<text text-anchor=\"start\" x=\"53.5\" y=\"-141.8\" font-family=\"Helvetica,sans-Serif\" font-size=\"14.00\" fill=\"#000000\">samples = 14</text>\n<text text-anchor=\"start\" x=\"52\" y=\"-126.8\" font-family=\"Helvetica,sans-Serif\" font-size=\"14.00\" fill=\"#000000\">value = [4, 10]</text>\n<text text-anchor=\"start\" x=\"50.5\" y=\"-111.8\" font-family=\"Helvetica,sans-Serif\" font-size=\"14.00\" fill=\"#000000\">class = default</text>\n</g>\n<!-- 18&#45;&gt;21 -->\n<g id=\"edge5\" class=\"edge\">\n<title>18&#45;&gt;21</title>\n<path fill=\"none\" stroke=\"#000000\" d=\"M216.4955,-222.8796C201.4505,-213.0962 185.3121,-202.6019 169.9267,-192.5971\"/>\n<polygon fill=\"#000000\" stroke=\"#000000\" points=\"171.7598,-189.6143 161.4684,-187.0969 167.9437,-195.4827 171.7598,-189.6143\"/>\n</g>\n<!-- 22 -->\n<g id=\"node9\" class=\"node\">\n<title>22</title>\n<path fill=\"#e99355\" stroke=\"#000000\" d=\"M335.5,-179.5C335.5,-179.5 225.5,-179.5 225.5,-179.5 219.5,-179.5 213.5,-173.5 213.5,-167.5 213.5,-167.5 213.5,-123.5 213.5,-123.5 213.5,-117.5 219.5,-111.5 225.5,-111.5 225.5,-111.5 335.5,-111.5 335.5,-111.5 341.5,-111.5 347.5,-117.5 347.5,-123.5 347.5,-123.5 347.5,-167.5 347.5,-167.5 347.5,-173.5 341.5,-179.5 335.5,-179.5\"/>\n<text text-anchor=\"start\" x=\"242.5\" y=\"-164.3\" font-family=\"Helvetica,sans-Serif\" font-size=\"14.00\" fill=\"#000000\">gini = 0.219</text>\n<text text-anchor=\"start\" x=\"236.5\" y=\"-149.3\" font-family=\"Helvetica,sans-Serif\" font-size=\"14.00\" fill=\"#000000\">samples = 24</text>\n<text text-anchor=\"start\" x=\"235\" y=\"-134.3\" font-family=\"Helvetica,sans-Serif\" font-size=\"14.00\" fill=\"#000000\">value = [21, 3]</text>\n<text text-anchor=\"start\" x=\"221.5\" y=\"-119.3\" font-family=\"Helvetica,sans-Serif\" font-size=\"14.00\" fill=\"#000000\">class = not default</text>\n</g>\n<!-- 18&#45;&gt;22 -->\n<g id=\"edge8\" class=\"edge\">\n<title>18&#45;&gt;22</title>\n<path fill=\"none\" stroke=\"#000000\" d=\"M280.5,-222.8796C280.5,-212.2134 280.5,-200.7021 280.5,-189.9015\"/>\n<polygon fill=\"#000000\" stroke=\"#000000\" points=\"284.0001,-189.8149 280.5,-179.8149 277.0001,-189.815 284.0001,-189.8149\"/>\n</g>\n<!-- 27 -->\n<g id=\"node7\" class=\"node\">\n<title>27</title>\n<path fill=\"#399de5\" stroke=\"#000000\" d=\"M126.5,-68C126.5,-68 40.5,-68 40.5,-68 34.5,-68 28.5,-62 28.5,-56 28.5,-56 28.5,-12 28.5,-12 28.5,-6 34.5,0 40.5,0 40.5,0 126.5,0 126.5,0 132.5,0 138.5,-6 138.5,-12 138.5,-12 138.5,-56 138.5,-56 138.5,-62 132.5,-68 126.5,-68\"/>\n<text text-anchor=\"start\" x=\"54\" y=\"-52.8\" font-family=\"Helvetica,sans-Serif\" font-size=\"14.00\" fill=\"#000000\">gini = 0.0</text>\n<text text-anchor=\"start\" x=\"44\" y=\"-37.8\" font-family=\"Helvetica,sans-Serif\" font-size=\"14.00\" fill=\"#000000\">samples = 9</text>\n<text text-anchor=\"start\" x=\"42\" y=\"-22.8\" font-family=\"Helvetica,sans-Serif\" font-size=\"14.00\" fill=\"#000000\">value = [0, 9]</text>\n<text text-anchor=\"start\" x=\"36.5\" y=\"-7.8\" font-family=\"Helvetica,sans-Serif\" font-size=\"14.00\" fill=\"#000000\">class = default</text>\n</g>\n<!-- 21&#45;&gt;27 -->\n<g id=\"edge6\" class=\"edge\">\n<title>21&#45;&gt;27</title>\n<path fill=\"none\" stroke=\"#000000\" d=\"M92.2869,-103.9815C91.2368,-95.618 90.1292,-86.7965 89.0675,-78.3409\"/>\n<polygon fill=\"#000000\" stroke=\"#000000\" points=\"92.5208,-77.7497 87.8022,-68.2637 85.5753,-78.6218 92.5208,-77.7497\"/>\n</g>\n<!-- 28 -->\n<g id=\"node8\" class=\"node\">\n<title>28</title>\n<path fill=\"#eca06a\" stroke=\"#000000\" d=\"M278.5,-68C278.5,-68 168.5,-68 168.5,-68 162.5,-68 156.5,-62 156.5,-56 156.5,-56 156.5,-12 156.5,-12 156.5,-6 162.5,0 168.5,0 168.5,0 278.5,0 278.5,0 284.5,0 290.5,-6 290.5,-12 290.5,-12 290.5,-56 290.5,-56 290.5,-62 284.5,-68 278.5,-68\"/>\n<text text-anchor=\"start\" x=\"190\" y=\"-52.8\" font-family=\"Helvetica,sans-Serif\" font-size=\"14.00\" fill=\"#000000\">gini = 0.32</text>\n<text text-anchor=\"start\" x=\"184\" y=\"-37.8\" font-family=\"Helvetica,sans-Serif\" font-size=\"14.00\" fill=\"#000000\">samples = 5</text>\n<text text-anchor=\"start\" x=\"182\" y=\"-22.8\" font-family=\"Helvetica,sans-Serif\" font-size=\"14.00\" fill=\"#000000\">value = [4, 1]</text>\n<text text-anchor=\"start\" x=\"164.5\" y=\"-7.8\" font-family=\"Helvetica,sans-Serif\" font-size=\"14.00\" fill=\"#000000\">class = not default</text>\n</g>\n<!-- 21&#45;&gt;28 -->\n<g id=\"edge7\" class=\"edge\">\n<title>21&#45;&gt;28</title>\n<path fill=\"none\" stroke=\"#000000\" d=\"M144.4177,-103.9815C155.1152,-94.5151 166.4756,-84.462 177.1492,-75.0168\"/>\n<polygon fill=\"#000000\" stroke=\"#000000\" points=\"179.6111,-77.5118 184.7805,-68.2637 174.9722,-72.2696 179.6111,-77.5118\"/>\n</g>\n<!-- 9 -->\n<g id=\"node11\" class=\"node\">\n<title>9</title>\n<path fill=\"#eca26d\" stroke=\"#000000\" d=\"M611,-306C611,-306 438,-306 438,-306 432,-306 426,-300 426,-294 426,-294 426,-235 426,-235 426,-229 432,-223 438,-223 438,-223 611,-223 611,-223 617,-223 623,-229 623,-235 623,-235 623,-294 623,-294 623,-300 617,-306 611,-306\"/>\n<text text-anchor=\"start\" x=\"434\" y=\"-290.8\" font-family=\"Helvetica,sans-Serif\" font-size=\"14.00\" fill=\"#000000\">% Trades w/ Balance ≤ 51.0</text>\n<text text-anchor=\"start\" x=\"486.5\" y=\"-275.8\" font-family=\"Helvetica,sans-Serif\" font-size=\"14.00\" fill=\"#000000\">gini = 0.331</text>\n<text text-anchor=\"start\" x=\"480.5\" y=\"-260.8\" font-family=\"Helvetica,sans-Serif\" font-size=\"14.00\" fill=\"#000000\">samples = 86</text>\n<text text-anchor=\"start\" x=\"474.5\" y=\"-245.8\" font-family=\"Helvetica,sans-Serif\" font-size=\"14.00\" fill=\"#000000\">value = [68, 18]</text>\n<text text-anchor=\"start\" x=\"465.5\" y=\"-230.8\" font-family=\"Helvetica,sans-Serif\" font-size=\"14.00\" fill=\"#000000\">class = not default</text>\n</g>\n<!-- 8&#45;&gt;9 -->\n<g id=\"edge10\" class=\"edge\">\n<title>8&#45;&gt;9</title>\n<path fill=\"none\" stroke=\"#000000\" d=\"M560.9139,-341.8796C556.8876,-333.3236 552.6053,-324.2238 548.4451,-315.3833\"/>\n<polygon fill=\"#000000\" stroke=\"#000000\" points=\"551.5946,-313.856 544.1697,-306.2981 545.2608,-316.8366 551.5946,-313.856\"/>\n</g>\n<!-- 10 -->\n<g id=\"node16\" class=\"node\">\n<title>10</title>\n<path fill=\"#55abe9\" stroke=\"#000000\" d=\"M739.5,-298.5C739.5,-298.5 653.5,-298.5 653.5,-298.5 647.5,-298.5 641.5,-292.5 641.5,-286.5 641.5,-286.5 641.5,-242.5 641.5,-242.5 641.5,-236.5 647.5,-230.5 653.5,-230.5 653.5,-230.5 739.5,-230.5 739.5,-230.5 745.5,-230.5 751.5,-236.5 751.5,-242.5 751.5,-242.5 751.5,-286.5 751.5,-286.5 751.5,-292.5 745.5,-298.5 739.5,-298.5\"/>\n<text text-anchor=\"start\" x=\"658.5\" y=\"-283.3\" font-family=\"Helvetica,sans-Serif\" font-size=\"14.00\" fill=\"#000000\">gini = 0.219</text>\n<text text-anchor=\"start\" x=\"652.5\" y=\"-268.3\" font-family=\"Helvetica,sans-Serif\" font-size=\"14.00\" fill=\"#000000\">samples = 24</text>\n<text text-anchor=\"start\" x=\"651\" y=\"-253.3\" font-family=\"Helvetica,sans-Serif\" font-size=\"14.00\" fill=\"#000000\">value = [3, 21]</text>\n<text text-anchor=\"start\" x=\"649.5\" y=\"-238.3\" font-family=\"Helvetica,sans-Serif\" font-size=\"14.00\" fill=\"#000000\">class = default</text>\n</g>\n<!-- 8&#45;&gt;10 -->\n<g id=\"edge15\" class=\"edge\">\n<title>8&#45;&gt;10</title>\n<path fill=\"none\" stroke=\"#000000\" d=\"M621.0712,-341.8796C632.326,-330.3337 644.5461,-317.7976 655.8078,-306.2446\"/>\n<polygon fill=\"#000000\" stroke=\"#000000\" points=\"658.5762,-308.4188 663.0501,-298.8149 653.5636,-303.5326 658.5762,-308.4188\"/>\n</g>\n<!-- 15 -->\n<g id=\"node12\" class=\"node\">\n<title>15</title>\n<path fill=\"#88c4ef\" stroke=\"#000000\" d=\"M517.5,-187C517.5,-187 377.5,-187 377.5,-187 371.5,-187 365.5,-181 365.5,-175 365.5,-175 365.5,-116 365.5,-116 365.5,-110 371.5,-104 377.5,-104 377.5,-104 517.5,-104 517.5,-104 523.5,-104 529.5,-110 529.5,-116 529.5,-116 529.5,-175 529.5,-175 529.5,-181 523.5,-187 517.5,-187\"/>\n<text text-anchor=\"start\" x=\"373.5\" y=\"-171.8\" font-family=\"Helvetica,sans-Serif\" font-size=\"14.00\" fill=\"#000000\">Unpaid Balance ≤ 39.0</text>\n<text text-anchor=\"start\" x=\"409.5\" y=\"-156.8\" font-family=\"Helvetica,sans-Serif\" font-size=\"14.00\" fill=\"#000000\">gini = 0.408</text>\n<text text-anchor=\"start\" x=\"403.5\" y=\"-141.8\" font-family=\"Helvetica,sans-Serif\" font-size=\"14.00\" fill=\"#000000\">samples = 14</text>\n<text text-anchor=\"start\" x=\"402\" y=\"-126.8\" font-family=\"Helvetica,sans-Serif\" font-size=\"14.00\" fill=\"#000000\">value = [4, 10]</text>\n<text text-anchor=\"start\" x=\"400.5\" y=\"-111.8\" font-family=\"Helvetica,sans-Serif\" font-size=\"14.00\" fill=\"#000000\">class = default</text>\n</g>\n<!-- 9&#45;&gt;15 -->\n<g id=\"edge11\" class=\"edge\">\n<title>9&#45;&gt;15</title>\n<path fill=\"none\" stroke=\"#000000\" d=\"M497.5691,-222.8796C491.9163,-214.1434 485.8967,-204.8404 480.0634,-195.8253\"/>\n<polygon fill=\"#000000\" stroke=\"#000000\" points=\"482.9169,-193.7924 474.5458,-187.2981 477.0399,-197.5952 482.9169,-193.7924\"/>\n</g>\n<!-- 16 -->\n<g id=\"node15\" class=\"node\">\n<title>16</title>\n<path fill=\"#e89152\" stroke=\"#000000\" d=\"M669.5,-179.5C669.5,-179.5 559.5,-179.5 559.5,-179.5 553.5,-179.5 547.5,-173.5 547.5,-167.5 547.5,-167.5 547.5,-123.5 547.5,-123.5 547.5,-117.5 553.5,-111.5 559.5,-111.5 559.5,-111.5 669.5,-111.5 669.5,-111.5 675.5,-111.5 681.5,-117.5 681.5,-123.5 681.5,-123.5 681.5,-167.5 681.5,-167.5 681.5,-173.5 675.5,-179.5 669.5,-179.5\"/>\n<text text-anchor=\"start\" x=\"576.5\" y=\"-164.3\" font-family=\"Helvetica,sans-Serif\" font-size=\"14.00\" fill=\"#000000\">gini = 0.198</text>\n<text text-anchor=\"start\" x=\"570.5\" y=\"-149.3\" font-family=\"Helvetica,sans-Serif\" font-size=\"14.00\" fill=\"#000000\">samples = 72</text>\n<text text-anchor=\"start\" x=\"569\" y=\"-134.3\" font-family=\"Helvetica,sans-Serif\" font-size=\"14.00\" fill=\"#000000\">value = [64, 8]</text>\n<text text-anchor=\"start\" x=\"555.5\" y=\"-119.3\" font-family=\"Helvetica,sans-Serif\" font-size=\"14.00\" fill=\"#000000\">class = not default</text>\n</g>\n<!-- 9&#45;&gt;16 -->\n<g id=\"edge14\" class=\"edge\">\n<title>9&#45;&gt;16</title>\n<path fill=\"none\" stroke=\"#000000\" d=\"M555.9776,-222.8796C564.5435,-211.5536 573.83,-199.2748 582.4283,-187.9058\"/>\n<polygon fill=\"#000000\" stroke=\"#000000\" points=\"585.3069,-189.902 588.5475,-179.8149 579.7238,-185.6795 585.3069,-189.902\"/>\n</g>\n<!-- 29 -->\n<g id=\"node13\" class=\"node\">\n<title>29</title>\n<path fill=\"#4da7e8\" stroke=\"#000000\" d=\"M417.5,-68C417.5,-68 331.5,-68 331.5,-68 325.5,-68 319.5,-62 319.5,-56 319.5,-56 319.5,-12 319.5,-12 319.5,-6 325.5,0 331.5,0 331.5,0 417.5,0 417.5,0 423.5,0 429.5,-6 429.5,-12 429.5,-12 429.5,-56 429.5,-56 429.5,-62 423.5,-68 417.5,-68\"/>\n<text text-anchor=\"start\" x=\"336.5\" y=\"-52.8\" font-family=\"Helvetica,sans-Serif\" font-size=\"14.00\" fill=\"#000000\">gini = 0.165</text>\n<text text-anchor=\"start\" x=\"330.5\" y=\"-37.8\" font-family=\"Helvetica,sans-Serif\" font-size=\"14.00\" fill=\"#000000\">samples = 11</text>\n<text text-anchor=\"start\" x=\"329\" y=\"-22.8\" font-family=\"Helvetica,sans-Serif\" font-size=\"14.00\" fill=\"#000000\">value = [1, 10]</text>\n<text text-anchor=\"start\" x=\"327.5\" y=\"-7.8\" font-family=\"Helvetica,sans-Serif\" font-size=\"14.00\" fill=\"#000000\">class = default</text>\n</g>\n<!-- 15&#45;&gt;29 -->\n<g id=\"edge12\" class=\"edge\">\n<title>15&#45;&gt;29</title>\n<path fill=\"none\" stroke=\"#000000\" d=\"M420.3175,-103.9815C414.4808,-95.0666 408.3034,-85.6313 402.4386,-76.6734\"/>\n<polygon fill=\"#000000\" stroke=\"#000000\" points=\"405.3386,-74.7129 396.9327,-68.2637 399.4821,-78.5472 405.3386,-74.7129\"/>\n</g>\n<!-- 30 -->\n<g id=\"node14\" class=\"node\">\n<title>30</title>\n<path fill=\"#e58139\" stroke=\"#000000\" d=\"M569.5,-68C569.5,-68 459.5,-68 459.5,-68 453.5,-68 447.5,-62 447.5,-56 447.5,-56 447.5,-12 447.5,-12 447.5,-6 453.5,0 459.5,0 459.5,0 569.5,0 569.5,0 575.5,0 581.5,-6 581.5,-12 581.5,-12 581.5,-56 581.5,-56 581.5,-62 575.5,-68 569.5,-68\"/>\n<text text-anchor=\"start\" x=\"485\" y=\"-52.8\" font-family=\"Helvetica,sans-Serif\" font-size=\"14.00\" fill=\"#000000\">gini = 0.0</text>\n<text text-anchor=\"start\" x=\"475\" y=\"-37.8\" font-family=\"Helvetica,sans-Serif\" font-size=\"14.00\" fill=\"#000000\">samples = 3</text>\n<text text-anchor=\"start\" x=\"473\" y=\"-22.8\" font-family=\"Helvetica,sans-Serif\" font-size=\"14.00\" fill=\"#000000\">value = [3, 0]</text>\n<text text-anchor=\"start\" x=\"455.5\" y=\"-7.8\" font-family=\"Helvetica,sans-Serif\" font-size=\"14.00\" fill=\"#000000\">class = not default</text>\n</g>\n<!-- 15&#45;&gt;30 -->\n<g id=\"edge13\" class=\"edge\">\n<title>15&#45;&gt;30</title>\n<path fill=\"none\" stroke=\"#000000\" d=\"M472.4483,-103.9815C477.7501,-95.1585 483.3581,-85.8258 488.6911,-76.9506\"/>\n<polygon fill=\"#000000\" stroke=\"#000000\" points=\"491.7605,-78.638 493.9111,-68.2637 485.7604,-75.0325 491.7605,-78.638\"/>\n</g>\n<!-- 3 -->\n<g id=\"node18\" class=\"node\">\n<title>3</title>\n<path fill=\"#dceefa\" stroke=\"#000000\" d=\"M1102,-425C1102,-425 941,-425 941,-425 935,-425 929,-419 929,-413 929,-413 929,-354 929,-354 929,-348 935,-342 941,-342 941,-342 1102,-342 1102,-342 1108,-342 1114,-348 1114,-354 1114,-354 1114,-413 1114,-413 1114,-419 1108,-425 1102,-425\"/>\n<text text-anchor=\"start\" x=\"937\" y=\"-409.8\" font-family=\"Helvetica,sans-Serif\" font-size=\"14.00\" fill=\"#000000\">Satisfactory Trades ≤ 24.5</text>\n<text text-anchor=\"start\" x=\"983.5\" y=\"-394.8\" font-family=\"Helvetica,sans-Serif\" font-size=\"14.00\" fill=\"#000000\">gini = 0.495</text>\n<text text-anchor=\"start\" x=\"973.5\" y=\"-379.8\" font-family=\"Helvetica,sans-Serif\" font-size=\"14.00\" fill=\"#000000\">samples = 310</text>\n<text text-anchor=\"start\" x=\"963.5\" y=\"-364.8\" font-family=\"Helvetica,sans-Serif\" font-size=\"14.00\" fill=\"#000000\">value = [140, 170]</text>\n<text text-anchor=\"start\" x=\"974.5\" y=\"-349.8\" font-family=\"Helvetica,sans-Serif\" font-size=\"14.00\" fill=\"#000000\">class = default</text>\n</g>\n<!-- 2&#45;&gt;3 -->\n<g id=\"edge17\" class=\"edge\">\n<title>2&#45;&gt;3</title>\n<path fill=\"none\" stroke=\"#000000\" d=\"M1021.5,-460.8796C1021.5,-452.6838 1021.5,-443.9891 1021.5,-435.5013\"/>\n<polygon fill=\"#000000\" stroke=\"#000000\" points=\"1025.0001,-435.298 1021.5,-425.2981 1018.0001,-435.2981 1025.0001,-435.298\"/>\n</g>\n<!-- 4 -->\n<g id=\"node29\" class=\"node\">\n<title>4</title>\n<path fill=\"#40a0e6\" stroke=\"#000000\" d=\"M1430,-425C1430,-425 1245,-425 1245,-425 1239,-425 1233,-419 1233,-413 1233,-413 1233,-354 1233,-354 1233,-348 1239,-342 1245,-342 1245,-342 1430,-342 1430,-342 1436,-342 1442,-348 1442,-354 1442,-354 1442,-413 1442,-413 1442,-419 1436,-425 1430,-425\"/>\n<text text-anchor=\"start\" x=\"1241\" y=\"-409.8\" font-family=\"Helvetica,sans-Serif\" font-size=\"14.00\" fill=\"#000000\">Average Months in File ≤ 38.5</text>\n<text text-anchor=\"start\" x=\"1299.5\" y=\"-394.8\" font-family=\"Helvetica,sans-Serif\" font-size=\"14.00\" fill=\"#000000\">gini = 0.062</text>\n<text text-anchor=\"start\" x=\"1289.5\" y=\"-379.8\" font-family=\"Helvetica,sans-Serif\" font-size=\"14.00\" fill=\"#000000\">samples = 722</text>\n<text text-anchor=\"start\" x=\"1283.5\" y=\"-364.8\" font-family=\"Helvetica,sans-Serif\" font-size=\"14.00\" fill=\"#000000\">value = [23, 699]</text>\n<text text-anchor=\"start\" x=\"1290.5\" y=\"-349.8\" font-family=\"Helvetica,sans-Serif\" font-size=\"14.00\" fill=\"#000000\">class = default</text>\n</g>\n<!-- 2&#45;&gt;4 -->\n<g id=\"edge28\" class=\"edge\">\n<title>2&#45;&gt;4</title>\n<path fill=\"none\" stroke=\"#000000\" d=\"M1124.533,-463.6996C1156.1707,-451.7854 1191.1674,-438.6063 1223.4943,-426.4325\"/>\n<polygon fill=\"#000000\" stroke=\"#000000\" points=\"1224.8587,-429.6587 1232.9836,-422.859 1222.3917,-423.1078 1224.8587,-429.6587\"/>\n</g>\n<!-- 5 -->\n<g id=\"node19\" class=\"node\">\n<title>5</title>\n<path fill=\"#f3c5a4\" stroke=\"#000000\" d=\"M1013,-306C1013,-306 828,-306 828,-306 822,-306 816,-300 816,-294 816,-294 816,-235 816,-235 816,-229 822,-223 828,-223 828,-223 1013,-223 1013,-223 1019,-223 1025,-229 1025,-235 1025,-235 1025,-294 1025,-294 1025,-300 1019,-306 1013,-306\"/>\n<text text-anchor=\"start\" x=\"824\" y=\"-290.8\" font-family=\"Helvetica,sans-Serif\" font-size=\"14.00\" fill=\"#000000\">Average Months in File ≤ 77.5</text>\n<text text-anchor=\"start\" x=\"882.5\" y=\"-275.8\" font-family=\"Helvetica,sans-Serif\" font-size=\"14.00\" fill=\"#000000\">gini = 0.455</text>\n<text text-anchor=\"start\" x=\"872.5\" y=\"-260.8\" font-family=\"Helvetica,sans-Serif\" font-size=\"14.00\" fill=\"#000000\">samples = 194</text>\n<text text-anchor=\"start\" x=\"866.5\" y=\"-245.8\" font-family=\"Helvetica,sans-Serif\" font-size=\"14.00\" fill=\"#000000\">value = [126, 68]</text>\n<text text-anchor=\"start\" x=\"861.5\" y=\"-230.8\" font-family=\"Helvetica,sans-Serif\" font-size=\"14.00\" fill=\"#000000\">class = not default</text>\n</g>\n<!-- 3&#45;&gt;5 -->\n<g id=\"edge18\" class=\"edge\">\n<title>3&#45;&gt;5</title>\n<path fill=\"none\" stroke=\"#000000\" d=\"M986.1751,-341.8796C978.5311,-332.8733 970.3757,-323.2644 962.5039,-313.9897\"/>\n<polygon fill=\"#000000\" stroke=\"#000000\" points=\"965.1151,-311.6574 955.9757,-306.2981 959.7782,-316.1871 965.1151,-311.6574\"/>\n</g>\n<!-- 6 -->\n<g id=\"node26\" class=\"node\">\n<title>6</title>\n<path fill=\"#54aae9\" stroke=\"#000000\" d=\"M1240,-306C1240,-306 1055,-306 1055,-306 1049,-306 1043,-300 1043,-294 1043,-294 1043,-235 1043,-235 1043,-229 1049,-223 1055,-223 1055,-223 1240,-223 1240,-223 1246,-223 1252,-229 1252,-235 1252,-235 1252,-294 1252,-294 1252,-300 1246,-306 1240,-306\"/>\n<text text-anchor=\"start\" x=\"1051\" y=\"-290.8\" font-family=\"Helvetica,sans-Serif\" font-size=\"14.00\" fill=\"#000000\">Average Months in File ≤ 53.5</text>\n<text text-anchor=\"start\" x=\"1109.5\" y=\"-275.8\" font-family=\"Helvetica,sans-Serif\" font-size=\"14.00\" fill=\"#000000\">gini = 0.212</text>\n<text text-anchor=\"start\" x=\"1099.5\" y=\"-260.8\" font-family=\"Helvetica,sans-Serif\" font-size=\"14.00\" fill=\"#000000\">samples = 116</text>\n<text text-anchor=\"start\" x=\"1093.5\" y=\"-245.8\" font-family=\"Helvetica,sans-Serif\" font-size=\"14.00\" fill=\"#000000\">value = [14, 102]</text>\n<text text-anchor=\"start\" x=\"1100.5\" y=\"-230.8\" font-family=\"Helvetica,sans-Serif\" font-size=\"14.00\" fill=\"#000000\">class = default</text>\n</g>\n<!-- 3&#45;&gt;6 -->\n<g id=\"edge25\" class=\"edge\">\n<title>3&#45;&gt;6</title>\n<path fill=\"none\" stroke=\"#000000\" d=\"M1065.5687,-341.8796C1075.2955,-332.6931 1085.6861,-322.8798 1095.6879,-313.4336\"/>\n<polygon fill=\"#000000\" stroke=\"#000000\" points=\"1098.3763,-315.7089 1103.2432,-306.2981 1093.5699,-310.6198 1098.3763,-315.7089\"/>\n</g>\n<!-- 13 -->\n<g id=\"node20\" class=\"node\">\n<title>13</title>\n<path fill=\"#eda673\" stroke=\"#000000\" d=\"M873,-187C873,-187 712,-187 712,-187 706,-187 700,-181 700,-175 700,-175 700,-116 700,-116 700,-110 706,-104 712,-104 712,-104 873,-104 873,-104 879,-104 885,-110 885,-116 885,-116 885,-175 885,-175 885,-181 879,-187 873,-187\"/>\n<text text-anchor=\"start\" x=\"708\" y=\"-171.8\" font-family=\"Helvetica,sans-Serif\" font-size=\"14.00\" fill=\"#000000\">Satisfactory Trades ≤ 16.5</text>\n<text text-anchor=\"start\" x=\"759\" y=\"-156.8\" font-family=\"Helvetica,sans-Serif\" font-size=\"14.00\" fill=\"#000000\">gini = 0.35</text>\n<text text-anchor=\"start\" x=\"744.5\" y=\"-141.8\" font-family=\"Helvetica,sans-Serif\" font-size=\"14.00\" fill=\"#000000\">samples = 124</text>\n<text text-anchor=\"start\" x=\"742.5\" y=\"-126.8\" font-family=\"Helvetica,sans-Serif\" font-size=\"14.00\" fill=\"#000000\">value = [96, 28]</text>\n<text text-anchor=\"start\" x=\"733.5\" y=\"-111.8\" font-family=\"Helvetica,sans-Serif\" font-size=\"14.00\" fill=\"#000000\">class = not default</text>\n</g>\n<!-- 5&#45;&gt;13 -->\n<g id=\"edge19\" class=\"edge\">\n<title>5&#45;&gt;13</title>\n<path fill=\"none\" stroke=\"#000000\" d=\"M875.7318,-222.8796C865.7537,-213.6031 855.0881,-203.6874 844.8358,-194.1559\"/>\n<polygon fill=\"#000000\" stroke=\"#000000\" points=\"847.1663,-191.5436 837.4593,-187.2981 842.4,-196.6704 847.1663,-191.5436\"/>\n</g>\n<!-- 14 -->\n<g id=\"node23\" class=\"node\">\n<title>14</title>\n<path fill=\"#cee6f8\" stroke=\"#000000\" d=\"M1050,-187C1050,-187 915,-187 915,-187 909,-187 903,-181 903,-175 903,-175 903,-116 903,-116 903,-110 909,-104 915,-104 915,-104 1050,-104 1050,-104 1056,-104 1062,-110 1062,-116 1062,-116 1062,-175 1062,-175 1062,-181 1056,-187 1050,-187\"/>\n<text text-anchor=\"start\" x=\"911\" y=\"-171.8\" font-family=\"Helvetica,sans-Serif\" font-size=\"14.00\" fill=\"#000000\">Trades 90+ Ever ≤ 0.5</text>\n<text text-anchor=\"start\" x=\"949\" y=\"-156.8\" font-family=\"Helvetica,sans-Serif\" font-size=\"14.00\" fill=\"#000000\">gini = 0.49</text>\n<text text-anchor=\"start\" x=\"938.5\" y=\"-141.8\" font-family=\"Helvetica,sans-Serif\" font-size=\"14.00\" fill=\"#000000\">samples = 70</text>\n<text text-anchor=\"start\" x=\"932.5\" y=\"-126.8\" font-family=\"Helvetica,sans-Serif\" font-size=\"14.00\" fill=\"#000000\">value = [30, 40]</text>\n<text text-anchor=\"start\" x=\"935.5\" y=\"-111.8\" font-family=\"Helvetica,sans-Serif\" font-size=\"14.00\" fill=\"#000000\">class = default</text>\n</g>\n<!-- 5&#45;&gt;14 -->\n<g id=\"edge22\" class=\"edge\">\n<title>5&#45;&gt;14</title>\n<path fill=\"none\" stroke=\"#000000\" d=\"M942.1846,-222.8796C946.6423,-214.3236 951.3834,-205.2238 955.9894,-196.3833\"/>\n<polygon fill=\"#000000\" stroke=\"#000000\" points=\"959.2062,-197.7838 960.7229,-187.2981 952.9983,-194.5494 959.2062,-197.7838\"/>\n</g>\n<!-- 23 -->\n<g id=\"node21\" class=\"node\">\n<title>23</title>\n<path fill=\"#e88d4c\" stroke=\"#000000\" d=\"M727.5,-68C727.5,-68 617.5,-68 617.5,-68 611.5,-68 605.5,-62 605.5,-56 605.5,-56 605.5,-12 605.5,-12 605.5,-6 611.5,0 617.5,0 617.5,0 727.5,0 727.5,0 733.5,0 739.5,-6 739.5,-12 739.5,-12 739.5,-56 739.5,-56 739.5,-62 733.5,-68 727.5,-68\"/>\n<text text-anchor=\"start\" x=\"634.5\" y=\"-52.8\" font-family=\"Helvetica,sans-Serif\" font-size=\"14.00\" fill=\"#000000\">gini = 0.161</text>\n<text text-anchor=\"start\" x=\"628.5\" y=\"-37.8\" font-family=\"Helvetica,sans-Serif\" font-size=\"14.00\" fill=\"#000000\">samples = 68</text>\n<text text-anchor=\"start\" x=\"627\" y=\"-22.8\" font-family=\"Helvetica,sans-Serif\" font-size=\"14.00\" fill=\"#000000\">value = [62, 6]</text>\n<text text-anchor=\"start\" x=\"613.5\" y=\"-7.8\" font-family=\"Helvetica,sans-Serif\" font-size=\"14.00\" fill=\"#000000\">class = not default</text>\n</g>\n<!-- 13&#45;&gt;23 -->\n<g id=\"edge20\" class=\"edge\">\n<title>13&#45;&gt;23</title>\n<path fill=\"none\" stroke=\"#000000\" d=\"M747.8164,-103.9815C737.7273,-94.607 727.019,-84.6572 716.9399,-75.2921\"/>\n<polygon fill=\"#000000\" stroke=\"#000000\" points=\"719.0839,-72.5065 709.3757,-68.2637 714.3191,-77.6346 719.0839,-72.5065\"/>\n</g>\n<!-- 24 -->\n<g id=\"node22\" class=\"node\">\n<title>24</title>\n<path fill=\"#f6d3b9\" stroke=\"#000000\" d=\"M879.5,-68C879.5,-68 769.5,-68 769.5,-68 763.5,-68 757.5,-62 757.5,-56 757.5,-56 757.5,-12 757.5,-12 757.5,-6 763.5,0 769.5,0 769.5,0 879.5,0 879.5,0 885.5,0 891.5,-6 891.5,-12 891.5,-12 891.5,-56 891.5,-56 891.5,-62 885.5,-68 879.5,-68\"/>\n<text text-anchor=\"start\" x=\"786.5\" y=\"-52.8\" font-family=\"Helvetica,sans-Serif\" font-size=\"14.00\" fill=\"#000000\">gini = 0.477</text>\n<text text-anchor=\"start\" x=\"780.5\" y=\"-37.8\" font-family=\"Helvetica,sans-Serif\" font-size=\"14.00\" fill=\"#000000\">samples = 56</text>\n<text text-anchor=\"start\" x=\"774.5\" y=\"-22.8\" font-family=\"Helvetica,sans-Serif\" font-size=\"14.00\" fill=\"#000000\">value = [34, 22]</text>\n<text text-anchor=\"start\" x=\"765.5\" y=\"-7.8\" font-family=\"Helvetica,sans-Serif\" font-size=\"14.00\" fill=\"#000000\">class = not default</text>\n</g>\n<!-- 13&#45;&gt;24 -->\n<g id=\"edge21\" class=\"edge\">\n<title>13&#45;&gt;24</title>\n<path fill=\"none\" stroke=\"#000000\" d=\"M804.4156,-103.9815C806.8423,-95.5261 809.4033,-86.6026 811.8543,-78.0623\"/>\n<polygon fill=\"#000000\" stroke=\"#000000\" points=\"815.272,-78.8412 814.6665,-68.2637 808.5436,-76.9101 815.272,-78.8412\"/>\n</g>\n<!-- 25 -->\n<g id=\"node24\" class=\"node\">\n<title>25</title>\n<path fill=\"#fae8da\" stroke=\"#000000\" d=\"M1034.5,-68C1034.5,-68 924.5,-68 924.5,-68 918.5,-68 912.5,-62 912.5,-56 912.5,-56 912.5,-12 912.5,-12 912.5,-6 918.5,0 924.5,0 924.5,0 1034.5,0 1034.5,0 1040.5,0 1046.5,-6 1046.5,-12 1046.5,-12 1046.5,-56 1046.5,-56 1046.5,-62 1040.5,-68 1034.5,-68\"/>\n<text text-anchor=\"start\" x=\"941.5\" y=\"-52.8\" font-family=\"Helvetica,sans-Serif\" font-size=\"14.00\" fill=\"#000000\">gini = 0.495</text>\n<text text-anchor=\"start\" x=\"935.5\" y=\"-37.8\" font-family=\"Helvetica,sans-Serif\" font-size=\"14.00\" fill=\"#000000\">samples = 49</text>\n<text text-anchor=\"start\" x=\"929.5\" y=\"-22.8\" font-family=\"Helvetica,sans-Serif\" font-size=\"14.00\" fill=\"#000000\">value = [27, 22]</text>\n<text text-anchor=\"start\" x=\"920.5\" y=\"-7.8\" font-family=\"Helvetica,sans-Serif\" font-size=\"14.00\" fill=\"#000000\">class = not default</text>\n</g>\n<!-- 14&#45;&gt;25 -->\n<g id=\"edge23\" class=\"edge\">\n<title>14&#45;&gt;25</title>\n<path fill=\"none\" stroke=\"#000000\" d=\"M981.3829,-103.9815C981.1579,-95.618 980.9205,-86.7965 980.693,-78.3409\"/>\n<polygon fill=\"#000000\" stroke=\"#000000\" points=\"984.1897,-78.1659 980.4219,-68.2637 977.1922,-78.3542 984.1897,-78.1659\"/>\n</g>\n<!-- 26 -->\n<g id=\"node25\" class=\"node\">\n<title>26</title>\n<path fill=\"#5aade9\" stroke=\"#000000\" d=\"M1162.5,-68C1162.5,-68 1076.5,-68 1076.5,-68 1070.5,-68 1064.5,-62 1064.5,-56 1064.5,-56 1064.5,-12 1064.5,-12 1064.5,-6 1070.5,0 1076.5,0 1076.5,0 1162.5,0 1162.5,0 1168.5,0 1174.5,-6 1174.5,-12 1174.5,-12 1174.5,-56 1174.5,-56 1174.5,-62 1168.5,-68 1162.5,-68\"/>\n<text text-anchor=\"start\" x=\"1081.5\" y=\"-52.8\" font-family=\"Helvetica,sans-Serif\" font-size=\"14.00\" fill=\"#000000\">gini = 0.245</text>\n<text text-anchor=\"start\" x=\"1075.5\" y=\"-37.8\" font-family=\"Helvetica,sans-Serif\" font-size=\"14.00\" fill=\"#000000\">samples = 21</text>\n<text text-anchor=\"start\" x=\"1074\" y=\"-22.8\" font-family=\"Helvetica,sans-Serif\" font-size=\"14.00\" fill=\"#000000\">value = [3, 18]</text>\n<text text-anchor=\"start\" x=\"1072.5\" y=\"-7.8\" font-family=\"Helvetica,sans-Serif\" font-size=\"14.00\" fill=\"#000000\">class = default</text>\n</g>\n<!-- 14&#45;&gt;26 -->\n<g id=\"edge24\" class=\"edge\">\n<title>14&#45;&gt;26</title>\n<path fill=\"none\" stroke=\"#000000\" d=\"M1033.5137,-103.9815C1045.258,-94.4232 1057.7372,-84.2668 1069.4405,-74.7419\"/>\n<polygon fill=\"#000000\" stroke=\"#000000\" points=\"1071.8536,-77.2906 1077.4002,-68.2637 1067.435,-71.8614 1071.8536,-77.2906\"/>\n</g>\n<!-- 19 -->\n<g id=\"node27\" class=\"node\">\n<title>19</title>\n<path fill=\"#eeab7b\" stroke=\"#000000\" d=\"M1202.5,-179.5C1202.5,-179.5 1092.5,-179.5 1092.5,-179.5 1086.5,-179.5 1080.5,-173.5 1080.5,-167.5 1080.5,-167.5 1080.5,-123.5 1080.5,-123.5 1080.5,-117.5 1086.5,-111.5 1092.5,-111.5 1092.5,-111.5 1202.5,-111.5 1202.5,-111.5 1208.5,-111.5 1214.5,-117.5 1214.5,-123.5 1214.5,-123.5 1214.5,-167.5 1214.5,-167.5 1214.5,-173.5 1208.5,-179.5 1202.5,-179.5\"/>\n<text text-anchor=\"start\" x=\"1109.5\" y=\"-164.3\" font-family=\"Helvetica,sans-Serif\" font-size=\"14.00\" fill=\"#000000\">gini = 0.375</text>\n<text text-anchor=\"start\" x=\"1108\" y=\"-149.3\" font-family=\"Helvetica,sans-Serif\" font-size=\"14.00\" fill=\"#000000\">samples = 8</text>\n<text text-anchor=\"start\" x=\"1106\" y=\"-134.3\" font-family=\"Helvetica,sans-Serif\" font-size=\"14.00\" fill=\"#000000\">value = [6, 2]</text>\n<text text-anchor=\"start\" x=\"1088.5\" y=\"-119.3\" font-family=\"Helvetica,sans-Serif\" font-size=\"14.00\" fill=\"#000000\">class = not default</text>\n</g>\n<!-- 6&#45;&gt;19 -->\n<g id=\"edge26\" class=\"edge\">\n<title>6&#45;&gt;19</title>\n<path fill=\"none\" stroke=\"#000000\" d=\"M1147.5,-222.8796C1147.5,-212.2134 1147.5,-200.7021 1147.5,-189.9015\"/>\n<polygon fill=\"#000000\" stroke=\"#000000\" points=\"1151.0001,-189.8149 1147.5,-179.8149 1144.0001,-189.815 1151.0001,-189.8149\"/>\n</g>\n<!-- 20 -->\n<g id=\"node28\" class=\"node\">\n<title>20</title>\n<path fill=\"#49a5e7\" stroke=\"#000000\" d=\"M1336.5,-179.5C1336.5,-179.5 1244.5,-179.5 1244.5,-179.5 1238.5,-179.5 1232.5,-173.5 1232.5,-167.5 1232.5,-167.5 1232.5,-123.5 1232.5,-123.5 1232.5,-117.5 1238.5,-111.5 1244.5,-111.5 1244.5,-111.5 1336.5,-111.5 1336.5,-111.5 1342.5,-111.5 1348.5,-117.5 1348.5,-123.5 1348.5,-123.5 1348.5,-167.5 1348.5,-167.5 1348.5,-173.5 1342.5,-179.5 1336.5,-179.5\"/>\n<text text-anchor=\"start\" x=\"1252.5\" y=\"-164.3\" font-family=\"Helvetica,sans-Serif\" font-size=\"14.00\" fill=\"#000000\">gini = 0.137</text>\n<text text-anchor=\"start\" x=\"1242.5\" y=\"-149.3\" font-family=\"Helvetica,sans-Serif\" font-size=\"14.00\" fill=\"#000000\">samples = 108</text>\n<text text-anchor=\"start\" x=\"1240.5\" y=\"-134.3\" font-family=\"Helvetica,sans-Serif\" font-size=\"14.00\" fill=\"#000000\">value = [8, 100]</text>\n<text text-anchor=\"start\" x=\"1243.5\" y=\"-119.3\" font-family=\"Helvetica,sans-Serif\" font-size=\"14.00\" fill=\"#000000\">class = default</text>\n</g>\n<!-- 6&#45;&gt;20 -->\n<g id=\"edge27\" class=\"edge\">\n<title>6&#45;&gt;20</title>\n<path fill=\"none\" stroke=\"#000000\" d=\"M1197.5145,-222.8796C1211.7853,-211.0038 1227.3151,-198.0804 1241.5233,-186.2568\"/>\n<polygon fill=\"#000000\" stroke=\"#000000\" points=\"1243.8166,-188.9019 1249.2644,-179.8149 1239.339,-183.5212 1243.8166,-188.9019\"/>\n</g>\n<!-- 11 -->\n<g id=\"node30\" class=\"node\">\n<title>11</title>\n<path fill=\"#f5cfb3\" stroke=\"#000000\" d=\"M1392.5,-298.5C1392.5,-298.5 1282.5,-298.5 1282.5,-298.5 1276.5,-298.5 1270.5,-292.5 1270.5,-286.5 1270.5,-286.5 1270.5,-242.5 1270.5,-242.5 1270.5,-236.5 1276.5,-230.5 1282.5,-230.5 1282.5,-230.5 1392.5,-230.5 1392.5,-230.5 1398.5,-230.5 1404.5,-236.5 1404.5,-242.5 1404.5,-242.5 1404.5,-286.5 1404.5,-286.5 1404.5,-292.5 1398.5,-298.5 1392.5,-298.5\"/>\n<text text-anchor=\"start\" x=\"1299.5\" y=\"-283.3\" font-family=\"Helvetica,sans-Serif\" font-size=\"14.00\" fill=\"#000000\">gini = 0.472</text>\n<text text-anchor=\"start\" x=\"1293.5\" y=\"-268.3\" font-family=\"Helvetica,sans-Serif\" font-size=\"14.00\" fill=\"#000000\">samples = 21</text>\n<text text-anchor=\"start\" x=\"1292\" y=\"-253.3\" font-family=\"Helvetica,sans-Serif\" font-size=\"14.00\" fill=\"#000000\">value = [13, 8]</text>\n<text text-anchor=\"start\" x=\"1278.5\" y=\"-238.3\" font-family=\"Helvetica,sans-Serif\" font-size=\"14.00\" fill=\"#000000\">class = not default</text>\n</g>\n<!-- 4&#45;&gt;11 -->\n<g id=\"edge29\" class=\"edge\">\n<title>4&#45;&gt;11</title>\n<path fill=\"none\" stroke=\"#000000\" d=\"M1337.5,-341.8796C1337.5,-331.2134 1337.5,-319.7021 1337.5,-308.9015\"/>\n<polygon fill=\"#000000\" stroke=\"#000000\" points=\"1341.0001,-308.8149 1337.5,-298.8149 1334.0001,-308.815 1341.0001,-308.8149\"/>\n</g>\n<!-- 12 -->\n<g id=\"node31\" class=\"node\">\n<title>12</title>\n<path fill=\"#3c9ee5\" stroke=\"#000000\" d=\"M1534.5,-298.5C1534.5,-298.5 1434.5,-298.5 1434.5,-298.5 1428.5,-298.5 1422.5,-292.5 1422.5,-286.5 1422.5,-286.5 1422.5,-242.5 1422.5,-242.5 1422.5,-236.5 1428.5,-230.5 1434.5,-230.5 1434.5,-230.5 1534.5,-230.5 1534.5,-230.5 1540.5,-230.5 1546.5,-236.5 1546.5,-242.5 1546.5,-242.5 1546.5,-286.5 1546.5,-286.5 1546.5,-292.5 1540.5,-298.5 1534.5,-298.5\"/>\n<text text-anchor=\"start\" x=\"1446.5\" y=\"-283.3\" font-family=\"Helvetica,sans-Serif\" font-size=\"14.00\" fill=\"#000000\">gini = 0.028</text>\n<text text-anchor=\"start\" x=\"1436.5\" y=\"-268.3\" font-family=\"Helvetica,sans-Serif\" font-size=\"14.00\" fill=\"#000000\">samples = 701</text>\n<text text-anchor=\"start\" x=\"1430.5\" y=\"-253.3\" font-family=\"Helvetica,sans-Serif\" font-size=\"14.00\" fill=\"#000000\">value = [10, 691]</text>\n<text text-anchor=\"start\" x=\"1437.5\" y=\"-238.3\" font-family=\"Helvetica,sans-Serif\" font-size=\"14.00\" fill=\"#000000\">class = default</text>\n</g>\n<!-- 4&#45;&gt;12 -->\n<g id=\"edge30\" class=\"edge\">\n<title>4&#45;&gt;12</title>\n<path fill=\"none\" stroke=\"#000000\" d=\"M1388.9135,-341.8796C1403.5835,-330.0038 1419.5477,-317.0804 1434.1533,-305.2568\"/>\n<polygon fill=\"#000000\" stroke=\"#000000\" points=\"1436.5407,-307.8273 1442.111,-298.8149 1432.1363,-302.3866 1436.5407,-307.8273\"/>\n</g>\n</g>\n</svg>\n"
          },
          "metadata": {},
          "execution_count": 11
        }
      ]
    },
    {
      "cell_type": "code",
      "source": [
        ""
      ],
      "metadata": {
        "id": "lNJ691Rzh_qU"
      },
      "execution_count": null,
      "outputs": []
    },
    {
      "cell_type": "markdown",
      "source": [
        "## Question Answering\n",
        "Please answer the following questions based on the surrogate model you have trained.  \n",
        "\n",
        "(1) What features are important when the original model makes predictions? List the top 5 features that yout think are mostly important. \n",
        "\n",
        "(2) Please explain why you choose the parameters you used to train the surrogate tree.\n",
        "\n",
        "(3) When a person is predicted as \"will default\" in the future, what may the loan application look like? Describe the application using no more than 3 features. And what's your reason for this description?\n",
        "\n",
        "(4) Imagine that you are going to deploy this SVM model for the actual business department, please list 3 questions about this SVM model's behavior that you want to know before the actual deployment, and whether they can be answered by the surrogate tree. \n",
        "(Notice: This question is not to judege how well you can do something, just to help you understand the role of model interpretation in the whole pipeline. So you can just list whatever you want to talk about.)\n",
        "\n",
        "\n",
        "\n",
        "\n",
        "======== You can run some code and answer the questions based on what you see from the result ========"
      ],
      "metadata": {
        "id": "iKFsVmaBiF3k"
      }
    },
    {
      "cell_type": "markdown",
      "source": [
        "## Answers:"
      ],
      "metadata": {
        "id": "fIPGfZGzAlBq"
      }
    },
    {
      "cell_type": "markdown",
      "source": [
        "(1) As we can see from the sorted feature importance of SVM (abs of coefficients):"
      ],
      "metadata": {
        "id": "UUaRfGaGAqxP"
      }
    },
    {
      "cell_type": "code",
      "source": [
        "clf_importance_dict = {}\n",
        "for i in range(len(feature_labels)):\n",
        "  clf_importance_dict[feature_labels[i]] = abs(clf.coef_[0][i])\n",
        "\n",
        "sorted(clf_importance_dict.items(),key=lambda x:x[1],reverse=True)"
      ],
      "metadata": {
        "id": "fY693CtyqXCI",
        "colab": {
          "base_uri": "https://localhost:8080/"
        },
        "outputId": "20fdf631-1f5c-40a2-e689-4cd6243e6ad0"
      },
      "execution_count": null,
      "outputs": [
        {
          "output_type": "execute_result",
          "data": {
            "text/plain": [
              "[('Bank Trades w/ High Utilization Ratio', 0.08367101872603473),\n",
              " ('Inq Last 6 Months', 0.06525559353610239),\n",
              " ('Revolving Trades w/ Balance', 0.0550022644795075),\n",
              " ('External Risk Estimate', 0.05139966538638607),\n",
              " ('Satisfactory Trades', 0.03371883821511443),\n",
              " ('Trades 90+ Ever', 0.02951346299062084),\n",
              " ('Inq Last 6 Months exl. 7 days', 0.02400864840426256),\n",
              " ('Max Delq. Ever', 0.01833433381043059),\n",
              " ('Max Delq. Last 12M', 0.01565425668497694),\n",
              " ('Trades Open Last 12M', 0.0156310967624127),\n",
              " ('Installment Trades w/ Balance', 0.010551192305833079),\n",
              " ('Bills Paid on Time', 0.009741363977618211),\n",
              " ('Unpaid Balance', 0.008254163142750376),\n",
              " ('% Installment Trades', 0.008069753198259921),\n",
              " ('Average Months in File', 0.007028373256606879),\n",
              " ('Months Since Last Trade Open', 0.005833915985326177),\n",
              " ('Total Trades', 0.004438647389754899),\n",
              " ('% Trades w/ Balance', 0.003827560433305552),\n",
              " ('Months Since Last Delq.', 0.0027672282809957094),\n",
              " ('Installment Burden', 0.0020749789629171678),\n",
              " ('Months Since Most Recent Inq', 0.001898312696117935),\n",
              " ('Trades 60+ Ever', 0.0008068990315154637),\n",
              " ('Months Since Oldest Trade Open', 0.00043647034419858066)]"
            ]
          },
          "metadata": {},
          "execution_count": 37
        }
      ]
    },
    {
      "cell_type": "markdown",
      "source": [
        "The most important features in original model are \"Bank Trades w/ High Utilization Ratio\", \"Inq Last 6 Months\", \"Revolving Trades w/ Balance\", \"External Risk Estimate\" and \"Satisfactory Trades\"."
      ],
      "metadata": {
        "id": "SoSPBh2mA5A7"
      }
    },
    {
      "cell_type": "markdown",
      "source": [
        "(2) I used \"max_depth=5,max_leaf_nodes=16,max_features=None\" in the construction of this decision tree.\n",
        "\n",
        "I have tried \"max_depth=None\", and as a result the depth of the tree is about 10 layers. It is too deep for us to analyze and an obviously overfitting result. So I reduce the max depth to 5 layers, and the accuracy of Decision Tree is almost the same as that of SVM, which means the depth of the decision tree is already enough for evaluating the results:"
      ],
      "metadata": {
        "id": "wb8oPt4uHWQ4"
      }
    },
    {
      "cell_type": "code",
      "source": [
        "print(\"testing accuracy:\", clf.score(X_test, y_test))\n",
        "print(\"tree accuracy:\", tclf.score(X_test, y_test))"
      ],
      "metadata": {
        "colab": {
          "base_uri": "https://localhost:8080/"
        },
        "id": "CcGva-fLamP3",
        "outputId": "2d3f2bc6-0eb8-414a-cbd8-5bbeec4e5c4c"
      },
      "execution_count": null,
      "outputs": [
        {
          "output_type": "stream",
          "name": "stdout",
          "text": [
            "testing accuracy: 0.7281012658227848\n",
            "tree accuracy: 0.7281012658227848\n"
          ]
        }
      ]
    },
    {
      "cell_type": "markdown",
      "source": [
        "In addition, I set max_leaf_nodes=16, becasue 16 leaf nodes is enough for a 5 layer binary tree. More leaf nodes will make the tree more complex."
      ],
      "metadata": {
        "id": "YhXGqgNAafEe"
      }
    },
    {
      "cell_type": "markdown",
      "source": [
        "(3) The loan application may have features of:\n",
        "\n",
        "External Risk Estimate > 76.5\n",
        "\n",
        "Average Months in File > 38.5\n",
        "\n",
        "Because there are samples of \"will default\" appears under these conditions in the surrogate tree."
      ],
      "metadata": {
        "id": "KfLILBE3a3gu"
      }
    },
    {
      "cell_type": "markdown",
      "source": [
        "(4) **Question1** : Can we know about which feature is the most important in SVM from the surrogate model?\n",
        "\n",
        "The result from the surrogate model is not so reliable to show the importance of features in SVM. "
      ],
      "metadata": {
        "id": "0dPBg2ttb96V"
      }
    },
    {
      "cell_type": "code",
      "source": [
        "tclf_importance_dict = {}\n",
        "for i in range(len(feature_labels)):\n",
        "  tclf_importance_dict[feature_labels[i]] = abs(tclf.feature_importances_[i])\n",
        "\n",
        "sorted(tclf_importance_dict.items(),key=lambda x:x[1],reverse=True)"
      ],
      "metadata": {
        "colab": {
          "base_uri": "https://localhost:8080/"
        },
        "id": "IRQw2rId4g18",
        "outputId": "c190b069-a199-4c66-e539-c612210f3a46"
      },
      "execution_count": null,
      "outputs": [
        {
          "output_type": "execute_result",
          "data": {
            "text/plain": [
              "[('External Risk Estimate', 0.8341127137028844),\n",
              " ('Satisfactory Trades', 0.0815944388382948),\n",
              " ('Average Months in File', 0.04959097983714356),\n",
              " ('Unpaid Balance', 0.012629860548308294),\n",
              " ('% Trades w/ Balance', 0.010731718752891518),\n",
              " ('Trades 90+ Ever', 0.006163200174172459),\n",
              " ('% Installment Trades', 0.00517708814630487),\n",
              " ('Months Since Oldest Trade Open', 0.0),\n",
              " ('Months Since Last Trade Open', 0.0),\n",
              " ('Trades 60+ Ever', 0.0),\n",
              " ('Bills Paid on Time', 0.0),\n",
              " ('Months Since Last Delq.', 0.0),\n",
              " ('Max Delq. Last 12M', 0.0),\n",
              " ('Max Delq. Ever', 0.0),\n",
              " ('Total Trades', 0.0),\n",
              " ('Trades Open Last 12M', 0.0),\n",
              " ('Months Since Most Recent Inq', 0.0),\n",
              " ('Inq Last 6 Months', 0.0),\n",
              " ('Inq Last 6 Months exl. 7 days', 0.0),\n",
              " ('Installment Burden', 0.0),\n",
              " ('Revolving Trades w/ Balance', 0.0),\n",
              " ('Installment Trades w/ Balance', 0.0),\n",
              " ('Bank Trades w/ High Utilization Ratio', 0.0)]"
            ]
          },
          "metadata": {},
          "execution_count": 39
        }
      ]
    },
    {
      "cell_type": "markdown",
      "source": [
        "As we can see from the lists above, the order of feature importance changes in the surrogate tree. So we cannot figure out the feature importance of the original model from the surrogate model."
      ],
      "metadata": {
        "id": "JIv7knQMZH6_"
      }
    },
    {
      "cell_type": "markdown",
      "source": [
        "**Question2** : Why SVM and the surrogate Decision Tree focus on different features but they still have a similar accuracy?\n",
        "\n",
        "I think it is because some of the features are correlated, so their importance for classification can be replaced by each other. And as a result, if one of those correlated features is used, the others will less likely to be considered.\n",
        "\n",
        "Another reason is that the surrogate tree is trained by the prediction results of SVM. So the aim of the tree is to imitate the results of SVM instead of the real distribution of the data, regardless of how the SVM works."
      ],
      "metadata": {
        "id": "uQKwPklFfNiZ"
      }
    },
    {
      "cell_type": "markdown",
      "source": [
        "**Question3** : Should we use a more complex kernel in the SVM?\n",
        "\n",
        "Maybe we should. As we can see from the surrogate tree, the rules for detecting one specific class is still complicated. The leaf nodes with the same class is not so dense, which means the data in this linear space is still not so easily distinguishable. Using another kernel may map the data into a larger space, and make the data easier to classify."
      ],
      "metadata": {
        "id": "cAfH5yd5gQ78"
      }
    }
  ]
}