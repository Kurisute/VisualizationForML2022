{
 "cells": [
  {
   "cell_type": "markdown",
   "metadata": {},
   "source": [
    "# Homework 1: CS-GY 9223\n",
    "## Exploring 20 NewsGroups"
   ]
  },
  {
   "cell_type": "markdown",
   "metadata": {},
   "source": [
    "In this homework, you will write a D3 Visualization in Javascript and integrate it in Jupyter Notebook.\n",
    "\n",
    "The goal of this exercise is to explore the **20 News Groups dataset**, a popular machine learning dataset that contains news articles grouped in 20 topics. Your visualization should receive the dataset and display a bar chart with the top most frequent words in the dataset. The user should be able to filter the data based on topic (for example, by clicking in checkboxes, selecting from a drop down menu, etc.). The user should also be able to export the selected documents from the selected topic back to Python (using a button).\n",
    "\n",
    "In summary, your visualization should have the following capabilities:\n",
    "- Display a bar chart with the top K words in the document collection\n",
    "- Enable the user to filter the documents based on topic, and display a bar chart with the frequency of the top K words from that topic.\n",
    "- Export the documents from the selected news topic back to python (as a list of strings).\n",
    "- The visualization has to be integrated with python. The API should have two functions:\n",
    "  - `plot_top_words(documents, K) # plot top K words using D3 and Javascript`\n",
    "  - `get_exported_documents() # get the exported documents back to python`\n",
    "  \n",
    "Example of the resulting visualization:\n",
    "<img src=\"HW_Vis.png\" width = \"500px\" height=\"100px\"/>"
   ]
  },
  {
   "cell_type": "markdown",
   "metadata": {},
   "source": [
    "### Accessing the data"
   ]
  },
  {
   "cell_type": "markdown",
   "metadata": {},
   "source": [
    "The data should be accessed from sklearn. In this section we show an example of code for accessing the documents and the document classes."
   ]
  },
  {
   "cell_type": "code",
   "execution_count": 1,
   "metadata": {},
   "outputs": [],
   "source": [
    "# Fetching the data\n",
    "from sklearn.datasets import fetch_20newsgroups\n",
    "import numpy as np\n",
    "newsgroups = fetch_20newsgroups(subset='test')\n",
    "\n",
    "# getting the topic ids\n",
    "topic_idx = np.array(newsgroups.target, dtype=int)\n",
    "\n",
    "# getting the unique topic names\n",
    "topic_names = np.array(newsgroups.target_names)\n",
    "\n",
    "# getting the list of documents\n",
    "documents = list(newsgroups.data)\n",
    "\n",
    "# getting the list of topics (in the same order as documents)\n",
    "topics = list(topic_names[topic_idx])"
   ]
  },
  {
   "cell_type": "markdown",
   "metadata": {},
   "source": [
    "These are the 20 topics in the dataset:"
   ]
  },
  {
   "cell_type": "code",
   "execution_count": 2,
   "metadata": {},
   "outputs": [
    {
     "data": {
      "text/plain": [
       "array(['alt.atheism', 'comp.graphics', 'comp.os.ms-windows.misc',\n",
       "       'comp.sys.ibm.pc.hardware', 'comp.sys.mac.hardware',\n",
       "       'comp.windows.x', 'misc.forsale', 'rec.autos', 'rec.motorcycles',\n",
       "       'rec.sport.baseball', 'rec.sport.hockey', 'sci.crypt',\n",
       "       'sci.electronics', 'sci.med', 'sci.space',\n",
       "       'soc.religion.christian', 'talk.politics.guns',\n",
       "       'talk.politics.mideast', 'talk.politics.misc',\n",
       "       'talk.religion.misc'], dtype='<U24')"
      ]
     },
     "execution_count": 2,
     "metadata": {},
     "output_type": "execute_result"
    }
   ],
   "source": [
    "topic_names"
   ]
  },
  {
   "cell_type": "markdown",
   "metadata": {},
   "source": [
    "The documents and document topics are assigned to the variables *documents* and *topics*. We print some document examples below."
   ]
  },
  {
   "cell_type": "code",
   "execution_count": 3,
   "metadata": {},
   "outputs": [
    {
     "name": "stdout",
     "output_type": "stream",
     "text": [
      "Topic: rec.autos\n",
      "------------------------------------------------------------\n",
      "Document:\n",
      "From: v064mb9k@ubvmsd.cc.buffalo.edu (NEIL B. GANDLER)\n",
      "Subject: Need info on 88-89 Bonneville\n",
      "Organization: University at Buffalo\n",
      "Lines: 10\n",
      "News-Software: VAX/VMS VNEWS 1.41\n",
      "Nntp-Posting-Host: ubvmsd.cc.buffalo.edu\n",
      "\n",
      "\n",
      " I am a little confused on all of the models of the 88-89 bonnevilles.\n",
      "I have heard of the LE SE LSE SSE SSEI. Could someone tell me the\n",
      "differences are far as features or performance. I am also curious to\n",
      "know what the book value is for prefereably the 89 model. And how much\n",
      "less than book value can you usually get them for. In other words how\n",
      "much are they in demand this time of year. I have heard that the mid-spring\n",
      "early summer is the best time to buy.\n",
      "\n",
      "\t\t\tNeil Gandler\n",
      "\n",
      "============================================================\n",
      "\n",
      "Topic: comp.windows.x\n",
      "------------------------------------------------------------\n",
      "Document:\n",
      "From: Rick Miller <rick@ee.uwm.edu>\n",
      "Subject: X-Face?\n",
      "Organization: Just me.\n",
      "Lines: 17\n",
      "Distribution: world\n",
      "NNTP-Posting-Host: 129.89.2.33\n",
      "Summary: Go ahead... swamp me.  <EEP!>\n",
      "\n",
      "I'm not familiar at all with the format of these \"X-Face:\" thingies, but\n",
      "after seeing them in some folks' headers, I've *got* to *see* them (and\n",
      "maybe make one of my own)!\n",
      "\n",
      "I've got \"dpg-view\" on my Linux box (which displays \"uncompressed X-Faces\")\n",
      "and I've managed to compile [un]compface too... but now that I'm *looking*\n",
      "for them, I can't seem to find any X-Face:'s in anyones news headers!  :-(\n",
      "\n",
      "Could you, would you, please send me your \"X-Face:\" header?\n",
      "\n",
      "I *know* I'll probably get a little swamped, but I can handle it.\n",
      "\n",
      "\t...I hope.\n",
      "\n",
      "Rick Miller  <rick@ee.uwm.edu> | <ricxjo@discus.mil.wi.us>   Ricxjo Muelisto\n",
      "Send a postcard, get one back! | Enposxtigu bildkarton kaj vi ricevos alion!\n",
      "          RICK MILLER // 16203 WOODS // MUSKEGO, WIS. 53150 // USA\n",
      "\n",
      "============================================================\n",
      "\n"
     ]
    }
   ],
   "source": [
    "for i in range(2):\n",
    "    print(\"Topic: {}\".format(topics[i]))\n",
    "    print(\"-\"*60)\n",
    "    print(\"Document:\")\n",
    "    print(documents[i])\n",
    "    print(\"=\"*60)\n",
    "    print(\"\")"
   ]
  }
 ],
 "metadata": {
  "kernelspec": {
   "display_name": "Python 3",
   "language": "python",
   "name": "python3"
  },
  "language_info": {
   "codemirror_mode": {
    "name": "ipython",
    "version": 3
   },
   "file_extension": ".py",
   "mimetype": "text/x-python",
   "name": "python",
   "nbconvert_exporter": "python",
   "pygments_lexer": "ipython3",
   "version": "3.6.13"
  }
 },
 "nbformat": 4,
 "nbformat_minor": 2
}
